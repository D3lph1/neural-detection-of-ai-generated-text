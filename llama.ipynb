{
 "cells": [
  {
   "cell_type": "markdown",
   "id": "487f1866-0042-4a86-957d-ca2e510de932",
   "metadata": {},
   "source": [
    "# Llama\n",
    "\n",
    "In this notebook, the original dataset is run through the Llama model in order to obtain artificially generated text."
   ]
  },
  {
   "cell_type": "markdown",
   "id": "e8b7669f-9f1b-45a3-a242-d85e9fab3015",
   "metadata": {},
   "source": [
    "### Install missing dependencies\n",
    "\n",
    "[llama-cpp-python](https://github.com/abetlen/llama-cpp-python) is Python bindings for [llama.cpp](https://github.com/ggerganov/llama.cpp).\n",
    "It allows to use lama.cpp functionality from Python code."
   ]
  },
  {
   "cell_type": "code",
   "execution_count": 4,
   "id": "1034c937-6e52-41bc-a10b-452720390204",
   "metadata": {},
   "outputs": [
    {
     "name": "stdout",
     "output_type": "stream",
     "text": [
      "Collecting llama-cpp-python==0.1.71\n",
      "  Downloading llama_cpp_python-0.1.71.tar.gz (1.6 MB)\n",
      "\u001b[2K     \u001b[90m━━━━━━━━━━━━━━━━━━━━━━━━━━━━━━━━━━━━━━━━\u001b[0m \u001b[32m1.6/1.6 MB\u001b[0m \u001b[31m2.3 MB/s\u001b[0m eta \u001b[36m0:00:00\u001b[0m00:01\u001b[0m00:01\u001b[0m0m\n",
      "\u001b[?25h  Installing build dependencies ... \u001b[?25ldone\n",
      "\u001b[?25h  Getting requirements to build wheel ... \u001b[?25ldone\n",
      "\u001b[?25h  Preparing metadata (pyproject.toml) ... \u001b[?25ldone\n",
      "\u001b[?25hRequirement already satisfied: typing-extensions>=4.5.0 in /Users/d3lph1/university/3/anlp/2/lib/python3.11/site-packages (from llama-cpp-python==0.1.71) (4.8.0)\n",
      "Requirement already satisfied: numpy>=1.20.0 in /Users/d3lph1/university/3/anlp/2/lib/python3.11/site-packages (from llama-cpp-python==0.1.71) (1.26.0)\n",
      "Requirement already satisfied: diskcache>=5.6.1 in /Users/d3lph1/university/3/anlp/2/lib/python3.11/site-packages (from llama-cpp-python==0.1.71) (5.6.3)\n",
      "Building wheels for collected packages: llama-cpp-python\n",
      "  Building wheel for llama-cpp-python (pyproject.toml) ... \u001b[?25ldone\n",
      "\u001b[?25h  Created wheel for llama-cpp-python: filename=llama_cpp_python-0.1.71-cp311-cp311-macosx_14_0_arm64.whl size=226040 sha256=98ddaaec94f2c81273b7c06d311ddee4d95a83b8043691540d3463ce22b5dbfb\n",
      "  Stored in directory: /Users/d3lph1/Library/Caches/pip/wheels/ed/34/05/2f85e98dce83c341e1483c2d5f9c31134c73abb51100bd519d\n",
      "Successfully built llama-cpp-python\n",
      "Installing collected packages: llama-cpp-python\n",
      "  Attempting uninstall: llama-cpp-python\n",
      "    Found existing installation: llama_cpp_python 0.2.19\n",
      "    Uninstalling llama_cpp_python-0.2.19:\n",
      "      Successfully uninstalled llama_cpp_python-0.2.19\n",
      "Successfully installed llama-cpp-python-0.1.71\n",
      "\n",
      "\u001b[1m[\u001b[0m\u001b[34;49mnotice\u001b[0m\u001b[1;39;49m]\u001b[0m\u001b[39;49m A new release of pip is available: \u001b[0m\u001b[31;49m23.2.1\u001b[0m\u001b[39;49m -> \u001b[0m\u001b[32;49m23.3.1\u001b[0m\n",
      "\u001b[1m[\u001b[0m\u001b[34;49mnotice\u001b[0m\u001b[1;39;49m]\u001b[0m\u001b[39;49m To update, run: \u001b[0m\u001b[32;49mpip install --upgrade pip\u001b[0m\n",
      "Note: you may need to restart the kernel to use updated packages.\n"
     ]
    }
   ],
   "source": [
    "pip install llama-cpp-python==0.1.71"
   ]
  },
  {
   "cell_type": "code",
   "execution_count": 86,
   "id": "ee997be9-8514-4388-9f9e-a59a635d710b",
   "metadata": {},
   "outputs": [],
   "source": [
    "import numpy as np\n",
    "import pandas as pd\n",
    "from tqdm import tqdm\n",
    "import math\n",
    "\n",
    "from llama_cpp import Llama"
   ]
  },
  {
   "cell_type": "markdown",
   "id": "7e9fb60f-b496-4c09-9374-92bb56b2b23e",
   "metadata": {},
   "source": [
    "### Read original dataset and add some columns\n",
    "\n",
    "\"another\" column - for Phi dataset. This file was written before we chosen the second LLM."
   ]
  },
  {
   "cell_type": "code",
   "execution_count": 95,
   "id": "de135a1d-1fcb-4cfd-b54a-1ff2a2003f48",
   "metadata": {},
   "outputs": [],
   "source": [
    "df = pd.read_parquet('./datasets/dataset.parquet')\n",
    "\n",
    "df = df.drop(columns=['nbestanswers', 'main_category'])\n",
    "df['llama'] = ['' for _ in range(len(df))]\n",
    "df['another'] = ['' for _ in range(len(df))]"
   ]
  },
  {
   "cell_type": "code",
   "execution_count": 96,
   "id": "5f14d3bc-59c6-4c36-9b44-7bb2c5bfe401",
   "metadata": {},
   "outputs": [],
   "source": [
    "df.to_csv('./datasets/container.csv')"
   ]
  },
  {
   "cell_type": "code",
   "execution_count": 105,
   "id": "403d4800-726c-4158-a34e-12bc0838beaa",
   "metadata": {},
   "outputs": [],
   "source": [
    "df = pd.read_csv('./datasets/container.csv')\n",
    "df['llama'] = df['llama'].astype(str)"
   ]
  },
  {
   "cell_type": "markdown",
   "id": "4a5c9038-f397-4319-8cdf-8d2d8a987d5c",
   "metadata": {},
   "source": [
    "### Load lama.cpp model (Llama 7B quantized to 4 bits)"
   ]
  },
  {
   "cell_type": "code",
   "execution_count": 77,
   "id": "550ab03b-88bc-491f-9677-ec712c9e4038",
   "metadata": {},
   "outputs": [
    {
     "name": "stderr",
     "output_type": "stream",
     "text": [
      "llama.cpp: loading model from ./llama/llama.cpp/models/7B/ggml-model-q4_0.bin\n",
      "llama_model_load_internal: format     = ggjt v3 (latest)\n",
      "llama_model_load_internal: n_vocab    = 32000\n",
      "llama_model_load_internal: n_ctx      = 512\n",
      "llama_model_load_internal: n_embd     = 4096\n",
      "llama_model_load_internal: n_mult     = 256\n",
      "llama_model_load_internal: n_head     = 32\n",
      "llama_model_load_internal: n_layer    = 32\n",
      "llama_model_load_internal: n_rot      = 128\n",
      "llama_model_load_internal: ftype      = 2 (mostly Q4_0)\n",
      "llama_model_load_internal: n_ff       = 11008\n",
      "llama_model_load_internal: model size = 7B\n",
      "llama_model_load_internal: ggml ctx size =    0.08 MB\n",
      "llama_model_load_internal: mem required  = 5439.94 MB (+ 1026.00 MB per state)\n",
      "llama_new_context_with_model: kv self size  =  256.00 MB\n"
     ]
    }
   ],
   "source": [
    "llm = Llama(model_path=\"./llama/llama.cpp/models/7B/ggml-model-q4_0.bin\", verbose=False)"
   ]
  },
  {
   "cell_type": "markdown",
   "id": "85d46643-4b5a-4623-8d71-f2803db3f1b6",
   "metadata": {},
   "source": [
    "### Evaluate the dataset via the model"
   ]
  },
  {
   "cell_type": "code",
   "execution_count": null,
   "id": "ee75c1c4-44d3-4318-8e08-b169d637e3f4",
   "metadata": {
    "scrolled": true
   },
   "outputs": [],
   "source": [
    "for index, row in tqdm(df.iterrows(), total=len(df)):\n",
    "    if row['llama'] == 'nan':\n",
    "        question = row['question']\n",
    "        output = llm(f\"Q: {question} A: \", max_tokens=128, stop=[\"Q:\", \"\\n\"], echo=False)\n",
    "    \n",
    "        choice = output['choices'][0]\n",
    "        \n",
    "        if choice['finish_reason'] == 'stop':\n",
    "            df.at[index, 'llama'] = choice['text']\n",
    "\n",
    "    if index != 0 and index % 100 == 0:\n",
    "        df.to_csv('./datasets/llama.csv')"
   ]
  },
  {
   "cell_type": "code",
   "execution_count": 64,
   "id": "ebfac7f8-0680-4c92-b6fa-13230380dfca",
   "metadata": {},
   "outputs": [
    {
     "data": {
      "text/html": [
       "<div>\n",
       "<style scoped>\n",
       "    .dataframe tbody tr th:only-of-type {\n",
       "        vertical-align: middle;\n",
       "    }\n",
       "\n",
       "    .dataframe tbody tr th {\n",
       "        vertical-align: top;\n",
       "    }\n",
       "\n",
       "    .dataframe thead th {\n",
       "        text-align: right;\n",
       "    }\n",
       "</style>\n",
       "<table border=\"1\" class=\"dataframe\">\n",
       "  <thead>\n",
       "    <tr style=\"text-align: right;\">\n",
       "      <th></th>\n",
       "      <th>Unnamed: 0</th>\n",
       "      <th>id</th>\n",
       "      <th>question</th>\n",
       "      <th>answer</th>\n",
       "      <th>llama</th>\n",
       "      <th>another</th>\n",
       "    </tr>\n",
       "  </thead>\n",
       "  <tbody>\n",
       "    <tr>\n",
       "      <th>0</th>\n",
       "      <td>0</td>\n",
       "      <td>2020338</td>\n",
       "      <td>Why did the U.S Invade Iraq ?</td>\n",
       "      <td>A small group of politicians believed strongly...</td>\n",
       "      <td>1) To control the oil supply, (2)To make the w...</td>\n",
       "      <td>NaN</td>\n",
       "    </tr>\n",
       "    <tr>\n",
       "      <th>1</th>\n",
       "      <td>1</td>\n",
       "      <td>2874684</td>\n",
       "      <td>How to get rid of a beehive?</td>\n",
       "      <td>Call an area apiarist.  They should be able to...</td>\n",
       "      <td>NaN</td>\n",
       "      <td>NaN</td>\n",
       "    </tr>\n",
       "    <tr>\n",
       "      <th>2</th>\n",
       "      <td>2</td>\n",
       "      <td>4193114</td>\n",
       "      <td>Why don't European restaurants serve water?</td>\n",
       "      <td>There's a general belief in Europe (and in fac...</td>\n",
       "      <td>NaN</td>\n",
       "      <td>NaN</td>\n",
       "    </tr>\n",
       "    <tr>\n",
       "      <th>3</th>\n",
       "      <td>3</td>\n",
       "      <td>1908421</td>\n",
       "      <td>Why hybrid cars gas mileage is better in city ?</td>\n",
       "      <td>hybrid cars save energy in two ways: 1.by stor...</td>\n",
       "      <td>NaN</td>\n",
       "      <td>NaN</td>\n",
       "    </tr>\n",
       "    <tr>\n",
       "      <th>4</th>\n",
       "      <td>4</td>\n",
       "      <td>3608897</td>\n",
       "      <td>Can someone explain the theory of e=mc2?</td>\n",
       "      <td>In general it means that in a very high speed ...</td>\n",
       "      <td>NaN</td>\n",
       "      <td>NaN</td>\n",
       "    </tr>\n",
       "    <tr>\n",
       "      <th>...</th>\n",
       "      <td>...</td>\n",
       "      <td>...</td>\n",
       "      <td>...</td>\n",
       "      <td>...</td>\n",
       "      <td>...</td>\n",
       "      <td>...</td>\n",
       "    </tr>\n",
       "    <tr>\n",
       "      <th>87357</th>\n",
       "      <td>87357</td>\n",
       "      <td>1134376</td>\n",
       "      <td>How did the phrase \"(someone) has gone missing...</td>\n",
       "      <td>I think it's strange, too.. It sounds very col...</td>\n",
       "      <td>NaN</td>\n",
       "      <td>NaN</td>\n",
       "    </tr>\n",
       "    <tr>\n",
       "      <th>87358</th>\n",
       "      <td>87358</td>\n",
       "      <td>945182</td>\n",
       "      <td>Why in the world do I have to press 1 to get E...</td>\n",
       "      <td>Because there are some Spanish people. If it a...</td>\n",
       "      <td>NaN</td>\n",
       "      <td>NaN</td>\n",
       "    </tr>\n",
       "    <tr>\n",
       "      <th>87359</th>\n",
       "      <td>87359</td>\n",
       "      <td>3433624</td>\n",
       "      <td>Why chemicals should never be placed directly ...</td>\n",
       "      <td>Because chemicals react with eachother, it is ...</td>\n",
       "      <td>NaN</td>\n",
       "      <td>NaN</td>\n",
       "    </tr>\n",
       "    <tr>\n",
       "      <th>87360</th>\n",
       "      <td>87360</td>\n",
       "      <td>2900989</td>\n",
       "      <td>what do you consider..........?</td>\n",
       "      <td>treat others as you want to be treated. becaus...</td>\n",
       "      <td>NaN</td>\n",
       "      <td>NaN</td>\n",
       "    </tr>\n",
       "    <tr>\n",
       "      <th>87361</th>\n",
       "      <td>87361</td>\n",
       "      <td>1424320</td>\n",
       "      <td>How can I finance investment property?</td>\n",
       "      <td>You could try to get the owners of the propert...</td>\n",
       "      <td>NaN</td>\n",
       "      <td>NaN</td>\n",
       "    </tr>\n",
       "  </tbody>\n",
       "</table>\n",
       "<p>87362 rows × 6 columns</p>\n",
       "</div>"
      ],
      "text/plain": [
       "       Unnamed: 0       id                                           question  \\\n",
       "0               0  2020338                      Why did the U.S Invade Iraq ?   \n",
       "1               1  2874684                       How to get rid of a beehive?   \n",
       "2               2  4193114        Why don't European restaurants serve water?   \n",
       "3               3  1908421    Why hybrid cars gas mileage is better in city ?   \n",
       "4               4  3608897           Can someone explain the theory of e=mc2?   \n",
       "...           ...      ...                                                ...   \n",
       "87357       87357  1134376  How did the phrase \"(someone) has gone missing...   \n",
       "87358       87358   945182  Why in the world do I have to press 1 to get E...   \n",
       "87359       87359  3433624  Why chemicals should never be placed directly ...   \n",
       "87360       87360  2900989                    what do you consider..........?   \n",
       "87361       87361  1424320             How can I finance investment property?   \n",
       "\n",
       "                                                  answer  \\\n",
       "0      A small group of politicians believed strongly...   \n",
       "1      Call an area apiarist.  They should be able to...   \n",
       "2      There's a general belief in Europe (and in fac...   \n",
       "3      hybrid cars save energy in two ways: 1.by stor...   \n",
       "4      In general it means that in a very high speed ...   \n",
       "...                                                  ...   \n",
       "87357  I think it's strange, too.. It sounds very col...   \n",
       "87358  Because there are some Spanish people. If it a...   \n",
       "87359  Because chemicals react with eachother, it is ...   \n",
       "87360  treat others as you want to be treated. becaus...   \n",
       "87361  You could try to get the owners of the propert...   \n",
       "\n",
       "                                                   llama  another  \n",
       "0      1) To control the oil supply, (2)To make the w...      NaN  \n",
       "1                                                    NaN      NaN  \n",
       "2                                                    NaN      NaN  \n",
       "3                                                    NaN      NaN  \n",
       "4                                                    NaN      NaN  \n",
       "...                                                  ...      ...  \n",
       "87357                                                NaN      NaN  \n",
       "87358                                                NaN      NaN  \n",
       "87359                                                NaN      NaN  \n",
       "87360                                                NaN      NaN  \n",
       "87361                                                NaN      NaN  \n",
       "\n",
       "[87362 rows x 6 columns]"
      ]
     },
     "execution_count": 64,
     "metadata": {},
     "output_type": "execute_result"
    }
   ],
   "source": [
    "df"
   ]
  },
  {
   "cell_type": "code",
   "execution_count": 107,
   "id": "2857fb54-0c23-4a7b-be81-36f9a1e66e43",
   "metadata": {},
   "outputs": [],
   "source": [
    "output = llm(f\"Q: {question} A: \", max_tokens=128, stop=[\"Q:\", \"\\n\"], echo=False)"
   ]
  },
  {
   "cell_type": "code",
   "execution_count": 108,
   "id": "343a4d3a-c387-454a-98fb-17ee2a4563f0",
   "metadata": {},
   "outputs": [
    {
     "data": {
      "text/plain": [
       "{'id': 'cmpl-5b3b3772-33aa-46ba-85cf-059bdc15e55c',\n",
       " 'object': 'text_completion',\n",
       " 'created': 1701124200,\n",
       " 'model': './llama/llama.cpp/models/7B/ggml-model-q4_0.bin',\n",
       " 'choices': [{'text': ' So far as I know, the Chinese military has been in touch with other military forces of the region since at least 1952. They started their peace keeping forces in Korea after 1950 and sent soldiers to Vietnam to help them against US invaders in 1964. In the 1980s they helped Ethiopia against Somalia, and later in the same decade they provided military assistance to Angola (against South Africa) and Zimbabwe (against Rhodesia).',\n",
       "   'index': 0,\n",
       "   'logprobs': None,\n",
       "   'finish_reason': 'stop'}],\n",
       " 'usage': {'prompt_tokens': 52, 'completion_tokens': 114, 'total_tokens': 166}}"
      ]
     },
     "execution_count": 108,
     "metadata": {},
     "output_type": "execute_result"
    }
   ],
   "source": [
    "output"
   ]
  }
 ],
 "metadata": {
  "kernelspec": {
   "display_name": "Python 3 (ipykernel)",
   "language": "python",
   "name": "python3"
  },
  "language_info": {
   "codemirror_mode": {
    "name": "ipython",
    "version": 3
   },
   "file_extension": ".py",
   "mimetype": "text/x-python",
   "name": "python",
   "nbconvert_exporter": "python",
   "pygments_lexer": "ipython3",
   "version": "3.11.5"
  }
 },
 "nbformat": 4,
 "nbformat_minor": 5
}
