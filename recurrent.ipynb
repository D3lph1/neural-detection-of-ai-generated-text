{
 "cells": [
  {
   "cell_type": "markdown",
   "id": "c2d116c5-842a-4fa1-af8d-ba236e5ecf02",
   "metadata": {},
   "source": [
    "# Classification model: Recurrent\n",
    "\n",
    "This notebook contains Recurrent model building, training and evaluation."
   ]
  },
  {
   "cell_type": "code",
   "execution_count": 1,
   "id": "3cbbd069-3482-4af2-a48b-ac9c1a03b9fe",
   "metadata": {},
   "outputs": [
    {
     "name": "stdout",
     "output_type": "stream",
     "text": [
      "Using TensorFlow backend\n"
     ]
    }
   ],
   "source": [
    "import numpy as np\n",
    "import pandas as pd\n",
    "import math\n",
    "import json\n",
    "\n",
    "from sklearn.model_selection import train_test_split\n",
    "\n",
    "import tensorflow as tf\n",
    "import keras\n",
    "import keras_nlp\n",
    "import tensorflow.keras.backend as K\n",
    "from tensorflow.keras.layers import TextVectorization\n",
    "\n",
    "from sklearn.metrics import accuracy_score, precision_score, recall_score\n",
    "from sklearn.metrics import confusion_matrix, ConfusionMatrixDisplay\n",
    "\n",
    "import matplotlib as mpl\n",
    "import matplotlib.pyplot as plt"
   ]
  },
  {
   "cell_type": "markdown",
   "id": "eef8a87a-8fa7-4c62-8ed8-ebfa3bf4da00",
   "metadata": {},
   "source": [
    "### Read the splitted datasets"
   ]
  },
  {
   "cell_type": "code",
   "execution_count": 2,
   "id": "30d5c21a-bb1a-4135-946c-0271a092c6c4",
   "metadata": {},
   "outputs": [],
   "source": [
    "with open('./datasets/data_train_new.json', 'r') as f:\n",
    "    data_train = json.load(f)\n",
    "\n",
    "with open('./datasets/data_valid_new.json', 'r') as f:\n",
    "    data_valid = json.load(f)\n",
    "\n",
    "with open('./datasets/data_test_new.json', 'r') as f:\n",
    "    data_test = json.load(f)\n",
    "\n",
    "train_df = pd.DataFrame(data_train)\n",
    "valid_df = pd.DataFrame(data_valid)\n",
    "test_df = pd.DataFrame(data_test)"
   ]
  },
  {
   "cell_type": "markdown",
   "id": "38617097-b3cf-461f-9380-e1569f982648",
   "metadata": {},
   "source": [
    "### Model building"
   ]
  },
  {
   "cell_type": "code",
   "execution_count": 3,
   "id": "aeaa6b55-4e6a-43f2-9dd3-d6132d4fd17f",
   "metadata": {},
   "outputs": [
    {
     "name": "stderr",
     "output_type": "stream",
     "text": [
      "2023-12-19 01:36:04.176870: I metal_plugin/src/device/metal_device.cc:1154] Metal device set to: Apple M1 Max\n",
      "2023-12-19 01:36:04.176923: I metal_plugin/src/device/metal_device.cc:296] systemMemory: 32.00 GB\n",
      "2023-12-19 01:36:04.176934: I metal_plugin/src/device/metal_device.cc:313] maxCacheSize: 10.67 GB\n",
      "2023-12-19 01:36:04.177006: I tensorflow/core/common_runtime/pluggable_device/pluggable_device_factory.cc:306] Could not identify NUMA node of platform GPU ID 0, defaulting to 0. Your kernel may not have been built with NUMA support.\n",
      "2023-12-19 01:36:04.177040: I tensorflow/core/common_runtime/pluggable_device/pluggable_device_factory.cc:272] Created TensorFlow device (/job:localhost/replica:0/task:0/device:GPU:0 with 0 MB memory) -> physical PluggableDevice (device: 0, name: METAL, pci bus id: <undefined>)\n"
     ]
    }
   ],
   "source": [
    "tokenizer = TextVectorization(output_sequence_length=128, standardize=None, ngrams=1)"
   ]
  },
  {
   "cell_type": "code",
   "execution_count": 4,
   "id": "f63ace2b-815f-4899-8753-e3448dcf913b",
   "metadata": {},
   "outputs": [
    {
     "name": "stderr",
     "output_type": "stream",
     "text": [
      "2023-12-19 01:36:06.534642: I tensorflow/core/grappler/optimizers/custom_graph_optimizer_registry.cc:117] Plugin optimizer for device_type GPU is enabled.\n"
     ]
    }
   ],
   "source": [
    "tokenizer.adapt(train_df.text)"
   ]
  },
  {
   "cell_type": "code",
   "execution_count": 5,
   "id": "2bfee470-e040-4518-bde4-12e0b86db2ef",
   "metadata": {},
   "outputs": [],
   "source": [
    "import torch\n",
    "from tensorflow.keras.layers import Layer, LayerNormalization, Dense, SimpleRNNCell, RNN, LSTM, Bidirectional, LSTMCell\n",
    "from tensorflow.keras import Sequential\n",
    "from tensorflow.keras.layers import Layer, LayerNormalization, GroupNormalization, Dense, SimpleRNNCell, RNN, LSTM, Bidirectional, LSTMCell\n",
    "from itertools import repeat"
   ]
  },
  {
   "cell_type": "code",
   "execution_count": 6,
   "id": "f64a8ec7-dbcf-422c-b3d4-1840a3279c78",
   "metadata": {},
   "outputs": [],
   "source": [
    "class RecurrentRetention(tf.compat.v1.nn.rnn_cell.RNNCell):\n",
    "    def __init__(self,\n",
    "                 input_size,\n",
    "                 hidden_size=32,\n",
    "                 gamma=0.984375,\n",
    "                 trainable=True,\n",
    "                 dtype=None,\n",
    "                 **kwargs):\n",
    "        super(RecurrentRetention, self).__init__(trainable=trainable,\n",
    "                                        dtype=dtype,\n",
    "                                        **kwargs)\n",
    "        self.input_size = input_size\n",
    "        self.hidden_size = hidden_size\n",
    "        self.r_layers = {\n",
    "            'Q' : Dense(hidden_size),\n",
    "            'K' : Dense(hidden_size),\n",
    "            'V' : Dense(hidden_size)\n",
    "        }\n",
    "\n",
    "        self.gamma = tf.Variable(gamma, trainable=True)\n",
    "\n",
    "    @property\n",
    "    def state_size(self):\n",
    "        return tf.TensorShape([self.hidden_size, self.hidden_size])\n",
    "\n",
    "    @property\n",
    "    def output_size(self):\n",
    "        return self.hidden_size\n",
    "\n",
    "    def call(self, inputs, state):\n",
    "      q, k, v = [tf.cast(f(inputs), tf.float32) for f in self.r_layers.values()]\n",
    "      s = self.gamma*state + tf.linalg.matmul(k, v, transpose_a=True)#tf.transpose(k, perm=[1, 0])@v\n",
    "      x = tf.einsum('bi, bzk -> bk', q, s)\n",
    "      return x, s\n",
    "\n",
    "\n",
    "class FeedForward(tf.keras.layers.Layer):\n",
    "  def __init__(self, d_model, dff, dropout_rate=0.3, activation='gelu'):\n",
    "    super().__init__()\n",
    "    self.seq = tf.keras.Sequential([\n",
    "      tf.keras.layers.Dense(dff, activation=activation),\n",
    "      tf.keras.layers.Dense(d_model),\n",
    "      tf.keras.layers.Dropout(dropout_rate)\n",
    "    ])\n",
    "\n",
    "  def call(self, x):\n",
    "    return self.seq(x)\n",
    "\n",
    "\n",
    "class Retention(Layer):\n",
    "    def __init__(self, dim=128, gamma = 0.9865, **kwargs):\n",
    "        super().__init__()\n",
    "        _dense_kwargs = {\n",
    "                \"use_bias\" : True,\n",
    "                \"dtype\" : \"float32\"\n",
    "                }\n",
    "        self._qkv_layers = [Dense(dim, **_dense_kwargs),\n",
    "                            Dense(dim, **_dense_kwargs),\n",
    "                            Dense(dim, **_dense_kwargs)]\n",
    "        self.gamma = gamma\n",
    "\n",
    "    def call(self, x, training=False):\n",
    "        Q, K, V = [f(z) for f, z in zip(self._qkv_layers, x)]\n",
    "        _, s, d = Q.shape\n",
    "        x = Q@tf.transpose(K, perm=[0, 2, 1])\n",
    "        x /= d**0.5 #Normalization Trick 1\n",
    "        D = self._compute_decay(s, self.gamma)\n",
    "        D /= tf.reduce_sum(D, -1)**0.5\n",
    "        x = x*D\n",
    "        _norm_3 = lambda xs: xs/tf.maximum(tf.abs(tf.math.reduce_sum(xs, -1)), 1)\n",
    "        x = tf.vectorized_map(_norm_3, x)\n",
    "        x = x@V\n",
    "        return x\n",
    "\n",
    "    def _compute_decay(self, seq_len, gamma = 0.96875):\n",
    "        _indices = list(range(0, seq_len))\n",
    "        _decay_factors = [gamma**(i-j) if i>=j else 0 for i in _indices for j in _indices]\n",
    "        D = tf.reshape(tf.convert_to_tensor(_decay_factors, dtype='float32'), (seq_len, seq_len))\n",
    "\n",
    "        return D#*mask\n",
    "\n",
    "class MultiScaleRetention(Layer):\n",
    "    def __init__(self, dim, hdim=100, retention_layer=Retention, **kwargs):\n",
    "      super(MultiScaleRetention, self).__init__()\n",
    "      gamma = 1 - (2 ** (-5 - torch.arange(0, dim//hdim).float()))\n",
    "      gamma = gamma.numpy().tolist()\n",
    "      self.dim = dim\n",
    "      self.hdim = hdim\n",
    "      self.heads = [retention_layer(dim=hdim, gamma=gamma[head], **kwargs) for head in range(dim // hdim)]#\n",
    "      self.gn = GroupNormalization(dim) \n",
    "      self.wg = Sequential([\n",
    "            Dense(dim, use_bias=True, activation = 'swish', **kwargs),\n",
    "        ])\n",
    "      self.wo = Dense(dim, use_bias=True, **kwargs)\n",
    "\n",
    "    def call(self, q, k, v):\n",
    "      W = self.wg(q)\n",
    "\n",
    "      x = [headi([q, k, v]) for headi in self.heads]\n",
    "      x = tf.concat(x, -1)\n",
    "      Y = self.gn(x)\n",
    "      x = self.wo(W * Y)\n",
    "      return x\n",
    "\n",
    "class RetentionEncoder(Layer):\n",
    "    def __init__(self, dim=540, hdim=100, retention_layer=Retention, **kwargs):\n",
    "        super().__init__()\n",
    "        self.layer_norm = LayerNormalization()\n",
    "        self.msr = MultiScaleRetention(dim, hdim, retention_layer=retention_layer)\n",
    "        self.layer_norm1 = LayerNormalization()\n",
    "        self.ffn = FeedForward(dim, dim*4)\n",
    "\n",
    "    def call(self, x, training=False):\n",
    "      xn = self.layer_norm(x)\n",
    "      msr_x = self.msr(xn, xn, xn) + x\n",
    "      x = self.ffn(self.layer_norm1(msr_x)) + msr_x\n",
    "      return x"
   ]
  },
  {
   "cell_type": "code",
   "execution_count": 7,
   "id": "6ff08a66-9f4d-4dc8-b693-7892385d3f78",
   "metadata": {},
   "outputs": [],
   "source": [
    "from tensorflow.keras import Model, Sequential\n",
    "from tensorflow.keras.layers import Input, Embedding, Dense, Flatten, Softmax, Dropout\n",
    "from itertools import repeat\n",
    "\n",
    "inputs = Input((128, ))\n",
    "x = Embedding(len(tokenizer.get_vocabulary()), 32)(inputs)\n",
    "x = Sequential([*repeat(RetentionEncoder(32, 32//2), 1)])(x)\n",
    "z = Dropout(0.5)(x)\n",
    "x = Flatten()(x)\n",
    "x = Dense(3, activation='softmax')(x)\n",
    "model = Model(inputs=inputs, outputs=x)\n",
    "\n",
    "model.compile(\n",
    "    optimizer=tf.keras.optimizers.legacy.Adam(learning_rate=5e-4),\n",
    "    loss=tf.keras.losses.SparseCategoricalCrossentropy(),\n",
    "    metrics=[\n",
    "        keras.metrics.SparseCategoricalAccuracy(name='acc')\n",
    "    ],\n",
    ")"
   ]
  },
  {
   "cell_type": "code",
   "execution_count": 8,
   "id": "2b6b4ee0-37d7-4a72-a1db-a0194ec7f6ce",
   "metadata": {},
   "outputs": [
    {
     "name": "stdout",
     "output_type": "stream",
     "text": [
      "Model: \"model\"\n",
      "_________________________________________________________________\n",
      " Layer (type)                Output Shape              Param #   \n",
      "=================================================================\n",
      " input_1 (InputLayer)        [(None, 128)]             0         \n",
      "                                                                 \n",
      " embedding (Embedding)       (None, 128, 32)           545344    \n",
      "                                                                 \n",
      " sequential_2 (Sequential)   (None, 128, 32)           13824     \n",
      "                                                                 \n",
      " flatten (Flatten)           (None, 4096)              0         \n",
      "                                                                 \n",
      " dense_10 (Dense)            (None, 3)                 12291     \n",
      "                                                                 \n",
      "=================================================================\n",
      "Total params: 571459 (2.18 MB)\n",
      "Trainable params: 571459 (2.18 MB)\n",
      "Non-trainable params: 0 (0.00 Byte)\n",
      "_________________________________________________________________\n"
     ]
    }
   ],
   "source": [
    "model.summary()"
   ]
  },
  {
   "cell_type": "markdown",
   "id": "da306d2b-e3fb-48f8-a99b-c45ca60f035c",
   "metadata": {},
   "source": [
    "### Train the model"
   ]
  },
  {
   "cell_type": "code",
   "execution_count": 9,
   "id": "37da87b4-515a-49fb-b784-6f84caa605ee",
   "metadata": {},
   "outputs": [
    {
     "name": "stdout",
     "output_type": "stream",
     "text": [
      "Epoch 1/15\n",
      "18/18 [==============================] - 5s 182ms/step - loss: 1.5103 - acc: 0.3480 - val_loss: 0.9550 - val_acc: 0.5110\n",
      "Epoch 2/15\n",
      "18/18 [==============================] - 2s 101ms/step - loss: 0.6979 - acc: 0.6987 - val_loss: 0.4579 - val_acc: 0.8390\n",
      "Epoch 3/15\n",
      "18/18 [==============================] - 2s 103ms/step - loss: 0.2864 - acc: 0.9480 - val_loss: 0.3729 - val_acc: 0.8890\n",
      "Epoch 4/15\n",
      "18/18 [==============================] - 2s 100ms/step - loss: 0.1491 - acc: 0.9853 - val_loss: 0.2771 - val_acc: 0.9040\n",
      "Epoch 5/15\n",
      "18/18 [==============================] - 2s 103ms/step - loss: 0.0650 - acc: 0.9973 - val_loss: 0.2416 - val_acc: 0.9080\n",
      "Epoch 6/15\n",
      "18/18 [==============================] - 2s 101ms/step - loss: 0.0353 - acc: 0.9987 - val_loss: 0.2291 - val_acc: 0.9100\n",
      "Epoch 7/15\n",
      "18/18 [==============================] - 2s 100ms/step - loss: 0.0219 - acc: 0.9996 - val_loss: 0.2267 - val_acc: 0.9080\n",
      "Epoch 8/15\n",
      "18/18 [==============================] - 2s 102ms/step - loss: 0.0152 - acc: 0.9996 - val_loss: 0.2208 - val_acc: 0.9090\n",
      "Epoch 9/15\n",
      "18/18 [==============================] - 2s 100ms/step - loss: 0.0111 - acc: 0.9996 - val_loss: 0.2153 - val_acc: 0.9130\n",
      "Epoch 10/15\n",
      "18/18 [==============================] - 2s 100ms/step - loss: 0.0083 - acc: 1.0000 - val_loss: 0.2129 - val_acc: 0.9140\n",
      "Epoch 11/15\n",
      "18/18 [==============================] - 2s 99ms/step - loss: 0.0066 - acc: 1.0000 - val_loss: 0.2125 - val_acc: 0.9140\n",
      "Epoch 12/15\n",
      "18/18 [==============================] - 2s 102ms/step - loss: 0.0053 - acc: 1.0000 - val_loss: 0.2224 - val_acc: 0.9040\n",
      "Epoch 13/15\n",
      "18/18 [==============================] - 2s 100ms/step - loss: 0.0044 - acc: 1.0000 - val_loss: 0.2176 - val_acc: 0.9040\n",
      "Epoch 14/15\n",
      "18/18 [==============================] - 2s 99ms/step - loss: 0.0037 - acc: 1.0000 - val_loss: 0.2190 - val_acc: 0.9050\n",
      "Epoch 15/15\n",
      "18/18 [==============================] - 2s 101ms/step - loss: 0.0032 - acc: 1.0000 - val_loss: 0.2166 - val_acc: 0.9080\n"
     ]
    }
   ],
   "source": [
    "histories = []\n",
    "train_ds = tf.data.Dataset.from_tensor_slices((train_df.text, train_df.label)).batch(128).map(lambda x, y: (tokenizer(x), y))\n",
    "train_ds = train_ds.shuffle(train_ds.cardinality())\n",
    "\n",
    "valid_ds = tf.data.Dataset.from_tensor_slices((valid_df.text, valid_df.label)).batch(128).map(lambda x, y: (tokenizer(x), y))\n",
    "valid_ds = valid_ds.shuffle(valid_ds.cardinality())\n",
    "\n",
    "histories = model.fit(train_ds, validation_data=[valid_ds], epochs=15, batch_size=128)#"
   ]
  },
  {
   "cell_type": "markdown",
   "id": "783e383c-7e2a-420d-9228-81429161c775",
   "metadata": {},
   "source": [
    "### Evaluation on the test dataset"
   ]
  },
  {
   "cell_type": "code",
   "execution_count": 10,
   "id": "f4511541-19eb-4783-9a06-ce32d5df3cef",
   "metadata": {},
   "outputs": [],
   "source": [
    "test_ds = tf.data.Dataset.from_tensor_slices((test_df.text, test_df.label)).batch(125).map(lambda x, y: (tokenizer(x), y))"
   ]
  },
  {
   "cell_type": "code",
   "execution_count": 11,
   "id": "3e4bdb82-f578-4d7f-82a6-156effa8a841",
   "metadata": {},
   "outputs": [
    {
     "name": "stdout",
     "output_type": "stream",
     "text": [
      "3/3 [==============================] - 0s 28ms/step - loss: 0.9302 - acc: 0.6507\n"
     ]
    }
   ],
   "source": [
    "score = model.evaluate(test_ds, batch_size=125)"
   ]
  },
  {
   "cell_type": "code",
   "execution_count": 12,
   "id": "375c354d-ff4b-44d6-91dd-27a7aaea9300",
   "metadata": {},
   "outputs": [
    {
     "name": "stdout",
     "output_type": "stream",
     "text": [
      "3/3 [==============================] - 1s 23ms/step\n"
     ]
    }
   ],
   "source": [
    "predictions = model.predict(\n",
    "    test_ds,\n",
    "    batch_size=125,\n",
    "    verbose=1\n",
    ")"
   ]
  },
  {
   "cell_type": "code",
   "execution_count": 13,
   "id": "33f0f43e-5859-464b-835f-4b1b28d4d35d",
   "metadata": {},
   "outputs": [],
   "source": [
    "true_labels = test_df.label.values\n",
    "pred_labels = predictions.argmax(axis=1)"
   ]
  },
  {
   "cell_type": "code",
   "execution_count": 14,
   "id": "54284391-3b46-47b7-b360-601e947ec305",
   "metadata": {},
   "outputs": [
    {
     "data": {
      "text/plain": [
       "array([0, 0, 0, 0, 0, 0, 0, 0, 0, 0, 0, 0, 0, 0, 0, 0, 0, 0, 0, 0, 0, 0,\n",
       "       0, 0, 0, 0, 0, 0, 0, 0, 0, 0, 0, 0, 0, 0, 0, 0, 0, 0, 0, 0, 0, 0,\n",
       "       0, 0, 0, 0, 0, 0, 0, 0, 0, 0, 0, 0, 0, 0, 0, 0, 0, 0, 0, 0, 0, 0,\n",
       "       0, 0, 0, 0, 0, 0, 0, 0, 0, 0, 0, 0, 0, 0, 0, 0, 0, 0, 0, 0, 0, 0,\n",
       "       0, 0, 0, 0, 0, 0, 0, 0, 0, 0, 0, 0, 0, 0, 0, 0, 0, 0, 0, 0, 0, 0,\n",
       "       0, 0, 0, 0, 0, 0, 0, 0, 0, 0, 0, 0, 0, 0, 0, 1, 1, 1, 1, 1, 1, 1,\n",
       "       1, 1, 1, 1, 1, 1, 1, 1, 1, 1, 1, 1, 1, 1, 1, 1, 1, 1, 1, 1, 1, 1,\n",
       "       1, 1, 1, 1, 1, 1, 1, 1, 1, 1, 1, 1, 1, 1, 1, 1, 1, 1, 1, 1, 1, 1,\n",
       "       1, 1, 1, 1, 1, 1, 1, 1, 1, 1, 1, 1, 1, 1, 1, 1, 1, 1, 1, 1, 1, 1,\n",
       "       1, 1, 1, 1, 1, 1, 1, 1, 1, 1, 1, 1, 1, 1, 1, 1, 1, 1, 1, 1, 1, 1,\n",
       "       1, 1, 1, 1, 1, 1, 1, 1, 1, 1, 1, 1, 1, 1, 1, 1, 1, 1, 1, 1, 1, 1,\n",
       "       1, 1, 1, 1, 1, 1, 1, 1, 2, 2, 2, 2, 2, 2, 2, 2, 2, 2, 2, 2, 2, 2,\n",
       "       2, 2, 2, 2, 2, 2, 2, 2, 2, 2, 2, 2, 2, 2, 2, 2, 2, 2, 2, 2, 2, 2,\n",
       "       2, 2, 2, 2, 2, 2, 2, 2, 2, 2, 2, 2, 2, 2, 2, 2, 2, 2, 2, 2, 2, 2,\n",
       "       2, 2, 2, 2, 2, 2, 2, 2, 2, 2, 2, 2, 2, 2, 2, 2, 2, 2, 2, 2, 2, 2,\n",
       "       2, 2, 2, 2, 2, 2, 2, 2, 2, 2, 2, 2, 2, 2, 2, 2, 2, 2, 2, 2, 2, 2,\n",
       "       2, 2, 2, 2, 2, 2, 2, 2, 2, 2, 2, 2, 2, 2, 2, 2, 2, 2, 2, 2, 2, 2,\n",
       "       2])"
      ]
     },
     "execution_count": 14,
     "metadata": {},
     "output_type": "execute_result"
    }
   ],
   "source": [
    "true_labels"
   ]
  },
  {
   "cell_type": "code",
   "execution_count": 15,
   "id": "468c4d8d-3f1c-4fad-a179-d10d6f8e8d69",
   "metadata": {},
   "outputs": [
    {
     "data": {
      "text/plain": [
       "array([1, 0, 0, 0, 0, 0, 0, 0, 0, 0, 2, 0, 2, 0, 2, 2, 0, 2, 0, 0, 2, 2,\n",
       "       0, 0, 0, 0, 0, 2, 0, 0, 0, 1, 0, 0, 0, 2, 2, 2, 1, 0, 0, 0, 2, 0,\n",
       "       0, 1, 0, 0, 0, 0, 1, 0, 2, 0, 0, 0, 0, 0, 1, 2, 0, 2, 2, 0, 0, 2,\n",
       "       0, 0, 0, 2, 0, 2, 2, 0, 0, 2, 0, 0, 1, 2, 0, 0, 0, 2, 2, 0, 2, 1,\n",
       "       1, 0, 0, 1, 0, 2, 0, 2, 0, 2, 0, 2, 0, 0, 2, 0, 0, 0, 0, 0, 2, 0,\n",
       "       0, 2, 2, 2, 0, 0, 2, 2, 1, 0, 2, 2, 1, 2, 0, 1, 1, 1, 1, 1, 1, 1,\n",
       "       1, 1, 2, 1, 2, 2, 1, 1, 0, 0, 1, 0, 0, 0, 1, 1, 1, 1, 1, 1, 1, 2,\n",
       "       1, 1, 1, 1, 1, 0, 1, 1, 1, 1, 1, 1, 2, 1, 2, 2, 2, 0, 2, 2, 2, 2,\n",
       "       0, 1, 2, 1, 1, 1, 1, 1, 2, 1, 2, 2, 1, 1, 1, 1, 1, 2, 1, 1, 2, 2,\n",
       "       2, 1, 0, 0, 1, 1, 1, 1, 2, 0, 2, 1, 1, 1, 1, 0, 2, 0, 1, 1, 0, 1,\n",
       "       1, 1, 1, 1, 0, 1, 2, 0, 1, 1, 2, 1, 1, 2, 1, 0, 1, 0, 1, 1, 1, 1,\n",
       "       1, 2, 1, 1, 1, 0, 2, 1, 2, 0, 2, 2, 2, 0, 2, 2, 2, 2, 0, 2, 0, 2,\n",
       "       2, 1, 1, 0, 2, 0, 0, 2, 2, 2, 0, 2, 2, 2, 2, 2, 2, 2, 2, 2, 2, 2,\n",
       "       0, 2, 0, 1, 1, 2, 0, 2, 2, 2, 0, 2, 0, 0, 0, 2, 2, 2, 2, 0, 2, 2,\n",
       "       2, 2, 2, 0, 0, 2, 2, 2, 0, 2, 2, 2, 2, 2, 2, 2, 0, 2, 2, 2, 2, 2,\n",
       "       2, 2, 2, 2, 2, 0, 2, 2, 2, 2, 2, 2, 0, 2, 2, 2, 2, 2, 2, 1, 2, 2,\n",
       "       2, 2, 2, 2, 0, 1, 2, 2, 2, 2, 0, 2, 1, 2, 2, 0, 2, 2, 2, 2, 2, 1,\n",
       "       2])"
      ]
     },
     "execution_count": 15,
     "metadata": {},
     "output_type": "execute_result"
    }
   ],
   "source": [
    "pred_labels"
   ]
  },
  {
   "cell_type": "markdown",
   "id": "fe2dfba7-5327-4a63-81e4-99f4bcd47de7",
   "metadata": {},
   "source": [
    "### Metrics"
   ]
  },
  {
   "cell_type": "code",
   "execution_count": 16,
   "id": "5e840e5a-6cd8-498f-af3f-6ceb754df9b8",
   "metadata": {},
   "outputs": [
    {
     "data": {
      "text/plain": [
       "(0.6506666666666666, 0.6672177878719977, 0.6506666666666666)"
      ]
     },
     "execution_count": 16,
     "metadata": {},
     "output_type": "execute_result"
    }
   ],
   "source": [
    "accuracy_score(true_labels, pred_labels), precision_score(true_labels, pred_labels, average='macro'), recall_score(true_labels, pred_labels, average='macro')"
   ]
  },
  {
   "cell_type": "markdown",
   "id": "fd6a2cea-918d-4be4-b155-9d0d1836c43b",
   "metadata": {},
   "source": [
    "### Confusion matrix"
   ]
  },
  {
   "cell_type": "code",
   "execution_count": 17,
   "id": "5cd1ad97-0d67-4097-b8be-2ab8cc47561f",
   "metadata": {},
   "outputs": [
    {
     "data": {
      "image/png": "[encoded data removed]",
      "text/plain": [
       "<Figure size 896x672 with 2 Axes>"
      ]
     },
     "metadata": {},
     "output_type": "display_data"
    }
   ],
   "source": [
    "mpl.rcParams['figure.dpi'] = 140\n",
    "\n",
    "cm = confusion_matrix(true_labels, pred_labels, labels=[0, 1, 2])\n",
    "disp = ConfusionMatrixDisplay(confusion_matrix=cm, display_labels=['Real', 'Llama', 'Phi'])\n",
    "disp.plot()\n",
    "\n",
    "plt.title('125 samples per each class')\n",
    "plt.show()"
   ]
  }
 ],
 "metadata": {
  "kernelspec": {
   "display_name": "Python 3 (ipykernel)",
   "language": "python",
   "name": "python3"
  },
  "language_info": {
   "codemirror_mode": {
    "name": "ipython",
    "version": 3
   },
   "file_extension": ".py",
   "mimetype": "text/x-python",
   "name": "python",
   "nbconvert_exporter": "python",
   "pygments_lexer": "ipython3",
   "version": "3.11.5"
  }
 },
 "nbformat": 4,
 "nbformat_minor": 5
}
