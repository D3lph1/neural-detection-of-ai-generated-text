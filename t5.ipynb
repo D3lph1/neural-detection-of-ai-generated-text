{
 "cells": [
  {
   "cell_type": "markdown",
   "id": "4dc1df3a-91f7-4812-9ff7-83245aa7fcf1",
   "metadata": {},
   "source": [
    "# Classification model: T5\n",
    "\n",
    "This notebook contains T5 model building, training and evaluation."
   ]
  },
  {
   "cell_type": "markdown",
   "id": "810386d1-8d74-44d9-8fd9-0619219ffeb1",
   "metadata": {},
   "source": [
    "### Install missing dependencies"
   ]
  },
  {
   "cell_type": "code",
   "execution_count": 3,
   "id": "64cfd564-cc2d-4127-b11e-2ef105aa49e4",
   "metadata": {
    "scrolled": true
   },
   "outputs": [
    {
     "name": "stdout",
     "output_type": "stream",
     "text": [
      "Collecting torchtext\n",
      "  Obtaining dependency information for torchtext from https://files.pythonhosted.org/packages/91/8e/d65632f1398d9b343f50f528bd8f6bf9b8a64c15731c1f2752c249559fb7/torchtext-0.16.2-cp311-cp311-macosx_11_0_arm64.whl.metadata\n",
      "  Downloading torchtext-0.16.2-cp311-cp311-macosx_11_0_arm64.whl.metadata (7.5 kB)\n",
      "Requirement already satisfied: tqdm in /Users/d3lph1/university/3/anlp/2/lib/python3.11/site-packages (from torchtext) (4.66.1)\n",
      "Requirement already satisfied: requests in /Users/d3lph1/university/3/anlp/2/lib/python3.11/site-packages (from torchtext) (2.31.0)\n",
      "Collecting torch==2.1.2 (from torchtext)\n",
      "  Obtaining dependency information for torch==2.1.2 from https://files.pythonhosted.org/packages/1e/86/477ec85bf1f122931f00a2f3889ed9322c091497415a563291ffc119dacc/torch-2.1.2-cp311-none-macosx_11_0_arm64.whl.metadata\n",
      "  Downloading torch-2.1.2-cp311-none-macosx_11_0_arm64.whl.metadata (25 kB)\n",
      "Requirement already satisfied: numpy in /Users/d3lph1/university/3/anlp/2/lib/python3.11/site-packages (from torchtext) (1.26.0)\n",
      "Collecting torchdata==0.7.1 (from torchtext)\n",
      "  Obtaining dependency information for torchdata==0.7.1 from https://files.pythonhosted.org/packages/35/b2/7ed3a80ae0673b940f2af14281dc02dee0f667c6094e6dcd399fa35249a7/torchdata-0.7.1-cp311-cp311-macosx_11_0_arm64.whl.metadata\n",
      "  Downloading torchdata-0.7.1-cp311-cp311-macosx_11_0_arm64.whl.metadata (13 kB)\n",
      "Requirement already satisfied: filelock in /Users/d3lph1/university/3/anlp/2/lib/python3.11/site-packages (from torch==2.1.2->torchtext) (3.12.4)\n",
      "Requirement already satisfied: typing-extensions in /Users/d3lph1/university/3/anlp/2/lib/python3.11/site-packages (from torch==2.1.2->torchtext) (4.8.0)\n",
      "Requirement already satisfied: sympy in /Users/d3lph1/university/3/anlp/2/lib/python3.11/site-packages (from torch==2.1.2->torchtext) (1.12)\n",
      "Requirement already satisfied: networkx in /Users/d3lph1/university/3/anlp/2/lib/python3.11/site-packages (from torch==2.1.2->torchtext) (3.1)\n",
      "Requirement already satisfied: jinja2 in /Users/d3lph1/university/3/anlp/2/lib/python3.11/site-packages (from torch==2.1.2->torchtext) (3.1.2)\n",
      "Requirement already satisfied: fsspec in /Users/d3lph1/university/3/anlp/2/lib/python3.11/site-packages (from torch==2.1.2->torchtext) (2023.6.0)\n",
      "Requirement already satisfied: urllib3>=1.25 in /Users/d3lph1/university/3/anlp/2/lib/python3.11/site-packages (from torchdata==0.7.1->torchtext) (2.0.6)\n",
      "Requirement already satisfied: charset-normalizer<4,>=2 in /Users/d3lph1/university/3/anlp/2/lib/python3.11/site-packages (from requests->torchtext) (3.3.0)\n",
      "Requirement already satisfied: idna<4,>=2.5 in /Users/d3lph1/university/3/anlp/2/lib/python3.11/site-packages (from requests->torchtext) (3.4)\n",
      "Requirement already satisfied: certifi>=2017.4.17 in /Users/d3lph1/university/3/anlp/2/lib/python3.11/site-packages (from requests->torchtext) (2023.7.22)\n",
      "Requirement already satisfied: MarkupSafe>=2.0 in /Users/d3lph1/university/3/anlp/2/lib/python3.11/site-packages (from jinja2->torch==2.1.2->torchtext) (2.1.3)\n",
      "Requirement already satisfied: mpmath>=0.19 in /Users/d3lph1/university/3/anlp/2/lib/python3.11/site-packages (from sympy->torch==2.1.2->torchtext) (1.3.0)\n",
      "Downloading torchtext-0.16.2-cp311-cp311-macosx_11_0_arm64.whl (2.1 MB)\n",
      "\u001b[2K   \u001b[90m━━━━━━━━━━━━━━━━━━━━━━━━━━━━━━━━━━━━━━━━\u001b[0m \u001b[32m2.1/2.1 MB\u001b[0m \u001b[31m5.7 MB/s\u001b[0m eta \u001b[36m0:00:00\u001b[0ma \u001b[36m0:00:01\u001b[0m\n",
      "\u001b[?25hDownloading torch-2.1.2-cp311-none-macosx_11_0_arm64.whl (59.6 MB)\n",
      "\u001b[2K   \u001b[90m━━━━━━━━━━━━━━━━━━━━━━━━━━━━━━━━━━━━━━━━\u001b[0m \u001b[32m59.6/59.6 MB\u001b[0m \u001b[31m9.5 MB/s\u001b[0m eta \u001b[36m0:00:00\u001b[0m00:01\u001b[0m00:01\u001b[0mm\n",
      "\u001b[?25hDownloading torchdata-0.7.1-cp311-cp311-macosx_11_0_arm64.whl (4.8 MB)\n",
      "\u001b[2K   \u001b[90m━━━━━━━━━━━━━━━━━━━━━━━━━━━━━━━━━━━━━━━━\u001b[0m \u001b[32m4.8/4.8 MB\u001b[0m \u001b[31m6.9 MB/s\u001b[0m eta \u001b[36m0:00:00\u001b[0ma \u001b[36m0:00:01\u001b[0mm\n",
      "\u001b[?25h\u001b[33mDEPRECATION: pytorch-lightning 1.5.10 has a non-standard dependency specifier torch>=1.7.*. pip 23.3 will enforce this behaviour change. A possible replacement is to upgrade to a newer version of pytorch-lightning or contact the author to suggest that they release a version with a conforming dependency specifiers. Discussion can be found at https://github.com/pypa/pip/issues/12063\u001b[0m\u001b[33m\n",
      "\u001b[0mInstalling collected packages: torch, torchdata, torchtext\n",
      "  Attempting uninstall: torch\n",
      "    Found existing installation: torch 2.1.0\n",
      "    Uninstalling torch-2.1.0:\n",
      "      Successfully uninstalled torch-2.1.0\n",
      "\u001b[31mERROR: pip's dependency resolver does not currently take into account all the packages that are installed. This behaviour is the source of the following dependency conflicts.\n",
      "torchvision 0.16.0 requires torch==2.1.0, but you have torch 2.1.2 which is incompatible.\u001b[0m\u001b[31m\n",
      "\u001b[0mSuccessfully installed torch-2.1.2 torchdata-0.7.1 torchtext-0.16.2\n",
      "\n",
      "\u001b[1m[\u001b[0m\u001b[34;49mnotice\u001b[0m\u001b[1;39;49m]\u001b[0m\u001b[39;49m A new release of pip is available: \u001b[0m\u001b[31;49m23.2.1\u001b[0m\u001b[39;49m -> \u001b[0m\u001b[32;49m23.3.2\u001b[0m\n",
      "\u001b[1m[\u001b[0m\u001b[34;49mnotice\u001b[0m\u001b[1;39;49m]\u001b[0m\u001b[39;49m To update, run: \u001b[0m\u001b[32;49mpip install --upgrade pip\u001b[0m\n"
     ]
    }
   ],
   "source": [
    "!pip install torchtext"
   ]
  },
  {
   "cell_type": "code",
   "execution_count": 1,
   "id": "aca26096-330a-463b-8d78-a70fb94ad163",
   "metadata": {},
   "outputs": [
    {
     "name": "stdout",
     "output_type": "stream",
     "text": [
      "Using TensorFlow backend\n"
     ]
    }
   ],
   "source": [
    "import numpy as np\n",
    "import pandas as pd\n",
    "import math\n",
    "import json\n",
    "import time\n",
    "import datetime\n",
    "\n",
    "from sklearn.model_selection import train_test_split\n",
    "\n",
    "import tensorflow as tf\n",
    "import keras\n",
    "import keras_nlp\n",
    "import tensorflow.keras.backend as K\n",
    "from tensorflow.keras.layers import TextVectorization\n",
    "\n",
    "from sklearn.metrics import accuracy_score, precision_score, recall_score\n",
    "from sklearn.metrics import confusion_matrix, ConfusionMatrixDisplay\n",
    "\n",
    "import matplotlib as mpl\n",
    "import matplotlib.pyplot as plt\n",
    "\n",
    "import torch\n",
    "import torch.utils.data as data_utils\n",
    "\n",
    "from transformers import T5Tokenizer, T5ForConditionalGeneration\n",
    "\n",
    "from torch.utils.data import TensorDataset, DataLoader\n",
    "from transformers import AdamW, get_linear_schedule_with_warmup\n",
    "from sklearn.metrics import accuracy_score, f1_score, precision_score, recall_score, classification_report"
   ]
  },
  {
   "cell_type": "markdown",
   "id": "157cb1e7-68ca-4933-b7b5-6b9c0fe85234",
   "metadata": {},
   "source": [
    "### Read the splitted datasets"
   ]
  },
  {
   "cell_type": "code",
   "execution_count": 3,
   "id": "05f72a69-6ddb-49b8-8cd2-4ed1ccd02901",
   "metadata": {},
   "outputs": [],
   "source": [
    "with open('./datasets/data_train_new.json', 'r') as f:\n",
    "    data_train = json.load(f)\n",
    "\n",
    "with open('./datasets/data_valid_new.json', 'r') as f:\n",
    "    data_valid = json.load(f)\n",
    "\n",
    "with open('./datasets/data_test_new.json', 'r') as f:\n",
    "    data_test = json.load(f)\n",
    "\n",
    "train_df = pd.DataFrame(data_train)\n",
    "valid_df = pd.DataFrame(data_valid)\n",
    "test_df = pd.DataFrame(data_test)"
   ]
  },
  {
   "cell_type": "markdown",
   "id": "1e768199-ff1c-4656-8404-8b78d896f3ca",
   "metadata": {},
   "source": [
    "### Model building"
   ]
  },
  {
   "cell_type": "code",
   "execution_count": 4,
   "id": "16b02285-0291-4b5a-9a4f-dffbd86d9252",
   "metadata": {},
   "outputs": [],
   "source": [
    "tokenizer = T5Tokenizer.from_pretrained('t5-small')\n",
    "\n",
    "def tokenize_corpus(df, tokenizer, max_len):\n",
    "    # token ID storage\n",
    "    input_ids = []\n",
    "    # attension mask storage\n",
    "    attention_masks = []\n",
    "    # for every document:\n",
    "    for doc in df:\n",
    "        encoded_dict = tokenizer.encode_plus(\n",
    "                            doc,  # document to encode.\n",
    "                            add_special_tokens=True,  # add tokens relative to model\n",
    "                            max_length=max_len,  # set max length\n",
    "                            truncation=True,  # truncate longer messages\n",
    "                            pad_to_max_length=True,  # add padding\n",
    "                            return_attention_mask=True,  # create attn. masks\n",
    "                            return_tensors='pt'  # return pytorch tensors\n",
    "                       )\n",
    "\n",
    "        # add the tokenized sentence to the list\n",
    "        input_ids.append(encoded_dict['input_ids'])\n",
    "\n",
    "        # and its attention mask (differentiates padding from non-padding)\n",
    "        attention_masks.append(encoded_dict['attention_mask'])\n",
    "\n",
    "    return torch.cat(input_ids, dim=0), torch.cat(attention_masks, dim=0)\n",
    "\n",
    "def create_dataset(df):\n",
    "    body_input_ids, body_attention_masks = tokenize_corpus(df['text'].values.tolist(), tokenizer, 128)\n",
    "    target_input_ids, target_attention_masks = tokenize_corpus([str(each) for each in df['label'].values.tolist()], tokenizer, 2)\n",
    "    \n",
    "    return TensorDataset(body_input_ids, body_attention_masks, target_input_ids, target_attention_masks)"
   ]
  },
  {
   "cell_type": "code",
   "execution_count": 5,
   "id": "a1e1f125-9cc7-444a-ad84-8531e30adcb3",
   "metadata": {},
   "outputs": [
    {
     "name": "stderr",
     "output_type": "stream",
     "text": [
      "/Users/d3lph1/university/3/anlp/2/lib/python3.11/site-packages/transformers/tokenization_utils_base.py:2251: FutureWarning: The `pad_to_max_length` argument is deprecated and will be removed in a future version, use `padding=True` or `padding='longest'` to pad to the longest sequence in the batch, or use `padding='max_length'` to pad to a max length. In this case, you can give a specific length with `max_length` (e.g. `max_length=45`) or leave max_length to None to pad to the maximal input size of the model (e.g. 512 for Bert).\n",
      "  warnings.warn(\n"
     ]
    }
   ],
   "source": [
    "train_dataset = create_dataset(train_df)\n",
    "valid_dataset = create_dataset(valid_df)\n",
    "test_dataset = create_dataset(test_df)"
   ]
  },
  {
   "cell_type": "code",
   "execution_count": 6,
   "id": "cfa2269d-56e1-4ecd-ad16-50d7b86d9ab6",
   "metadata": {},
   "outputs": [],
   "source": [
    "model = T5ForConditionalGeneration.from_pretrained('t5-small')"
   ]
  },
  {
   "cell_type": "code",
   "execution_count": 7,
   "id": "60ef4703-538f-4d08-a5d4-5262d0833bb9",
   "metadata": {},
   "outputs": [],
   "source": [
    "train_dataloader = DataLoader(train_dataset,\n",
    "                              batch_size=24,\n",
    "                              shuffle=False)\n",
    "\n",
    "valid_dataloader = DataLoader(valid_dataset,\n",
    "                              batch_size=24,\n",
    "                              shuffle=True)\n",
    "\n",
    "test_dataloader = DataLoader(test_dataset,\n",
    "                              batch_size=24,\n",
    "                              shuffle=True)"
   ]
  },
  {
   "cell_type": "code",
   "execution_count": 12,
   "id": "72df8846-f7ef-4127-831e-b66df60c7f65",
   "metadata": {},
   "outputs": [],
   "source": [
    "def train(model, dataloader, optimizer):\n",
    "\n",
    "    # capture time\n",
    "    total_t0 = time.time()\n",
    "\n",
    "    # Perform one full pass over the training set.\n",
    "    print(\"\")\n",
    "    print('======== Epoch {:} / {:} ========'.format(epoch + 1, epochs))\n",
    "    print('Training...')\n",
    "\n",
    "    # reset total loss for epoch\n",
    "    train_total_loss = 0\n",
    "    total_train_f1 = 0\n",
    "\n",
    "    # put model into traning mode\n",
    "    model.train()\n",
    "\n",
    "    # for each batch of training data...\n",
    "    for step, batch in enumerate(dataloader):\n",
    "\n",
    "        # progress update every 40 batches.\n",
    "        if step % 40 == 0 and not step == 0:\n",
    "\n",
    "            # Report progress.\n",
    "            print('  Batch {:>5,}  of  {:>5,}.'.format(step, len(dataloader)))\n",
    "\n",
    "        # Unpack this training batch from our dataloader\n",
    "        b_input_ids = batch[0]\n",
    "        b_input_mask = batch[1]\n",
    "        b_target_ids = batch[2]\n",
    "        b_target_mask = batch[3]\n",
    "\n",
    "        # clear previously calculated gradients\n",
    "        optimizer.zero_grad()\n",
    "\n",
    "        # forward propagation (evaluate model on training batch)\n",
    "        outputs = model(input_ids=b_input_ids,\n",
    "                        attention_mask=b_input_mask,\n",
    "                        labels=b_target_ids,\n",
    "                        decoder_attention_mask=b_target_mask)\n",
    "\n",
    "        loss, prediction_scores = outputs[:2]\n",
    "\n",
    "        # sum the training loss over all batches for average loss at end\n",
    "        # loss is a tensor containing a single value\n",
    "        train_total_loss += loss.item()\n",
    "\n",
    "        optimizer.step()\n",
    "\n",
    "        # update the learning rate\n",
    "        scheduler.step()\n",
    "\n",
    "    # calculate the average loss over all of the batches\n",
    "    avg_train_loss = train_total_loss / len(dataloader)\n",
    "\n",
    "    # Record all statistics from this epoch.\n",
    "    training_stats.append(\n",
    "        {\n",
    "            'Train Loss': avg_train_loss\n",
    "        }\n",
    "    )\n",
    "\n",
    "    # training time end\n",
    "    training_time = format_time(time.time() - total_t0)\n",
    "\n",
    "    # print result summaries\n",
    "    print(\"\")\n",
    "    print(\"summary results\")\n",
    "    print(\"epoch | trn loss | trn time \")\n",
    "    print(f\"{epoch+1:5d} | {avg_train_loss:.5f} | {training_time:}\")\n",
    "\n",
    "    return training_stats\n",
    "\n",
    "def validating(model, dataloader):\n",
    "\n",
    "    # capture validation time\n",
    "    total_t0 = time.time()\n",
    "\n",
    "    # After the completion of each training epoch, measure our performance on\n",
    "    # our validation set.\n",
    "    print(\"\")\n",
    "    print(\"Running Validation...\")\n",
    "\n",
    "    # put the model in evaluation mode\n",
    "    model.eval()\n",
    "\n",
    "    # track variables\n",
    "    total_valid_loss = 0\n",
    "\n",
    "    # evaluate data for one epoch\n",
    "    for batch in dataloader:\n",
    "\n",
    "        # Unpack this training batch from our dataloader\n",
    "        b_input_ids = batch[0]\n",
    "        b_input_mask = batch[1]\n",
    "        b_target_ids = batch[2]\n",
    "        b_target_mask = batch[3]\n",
    "\n",
    "        with torch.no_grad():\n",
    "\n",
    "            # forward propagation\n",
    "            outputs = model(input_ids=b_input_ids,\n",
    "                            attention_mask=b_input_mask,\n",
    "                            labels=b_target_ids,\n",
    "                            decoder_attention_mask=b_target_mask)\n",
    "\n",
    "            loss, prediction_scores = outputs[:2]\n",
    "\n",
    "            total_valid_loss += loss.item()\n",
    "\n",
    "    global avg_val_loss\n",
    "    avg_val_loss = total_valid_loss / len(dataloader)\n",
    "\n",
    "    # Record all statistics from this epoch.\n",
    "    valid_stats.append(\n",
    "        {\n",
    "            'Val Loss': avg_val_loss,\n",
    "            'Val PPL.': np.exp(avg_val_loss)\n",
    "        }\n",
    "    )\n",
    "\n",
    "    training_time = format_time(time.time() - total_t0)\n",
    "\n",
    "    print(\"\")\n",
    "    print(\"summary results\")\n",
    "    print(\"epoch | val loss | val time\")\n",
    "    print(f\"{epoch+1:5d} | {avg_val_loss:.5f} | {training_time:}\")\n",
    "\n",
    "    return valid_stats\n",
    "\n",
    "def testing(model, dataloader):\n",
    "\n",
    "    print(\"\")\n",
    "    print(\"Running Testing...\")\n",
    "\n",
    "    t0 = time.time()\n",
    "\n",
    "    model.eval()\n",
    "\n",
    "    total_test_loss = 0\n",
    "    total_test_acc = 0\n",
    "    total_test_f1 = 0\n",
    "    predictions = []\n",
    "    actuals = []\n",
    "\n",
    "    for step, batch in enumerate(dataloader):\n",
    "        if step % 40 == 0 and not step == 0:\n",
    "            elapsed = format_time(time.time() - t0)\n",
    "            print('  Batch {:>5,}  of  {:>5,}.    Elapsed: {:}.'.format(step, len(dataloader), elapsed))\n",
    "\n",
    "        # Unpack this training batch from our dataloader\n",
    "        b_input_ids = batch[0]\n",
    "        b_input_mask = batch[1]\n",
    "        b_target_ids = batch[2]\n",
    "        b_target_mask = batch[3]\n",
    "\n",
    "        with torch.no_grad():\n",
    "            outputs = model(input_ids=b_input_ids,\n",
    "                            attention_mask=b_input_mask,\n",
    "                            labels=b_target_ids,\n",
    "                            decoder_attention_mask=b_target_mask)\n",
    "\n",
    "            loss, prediction_scores = outputs[:2]\n",
    "\n",
    "            total_test_loss += loss.item()\n",
    "\n",
    "            generated_ids = model.generate(\n",
    "                    input_ids=b_input_ids,\n",
    "                    attention_mask=b_input_mask,\n",
    "                    max_length=2\n",
    "            )\n",
    "\n",
    "            preds = [tokenizer.decode(g, skip_special_tokens=True, clean_up_tokenization_spaces=True) for g in generated_ids]\n",
    "            target = [tokenizer.decode(t, skip_special_tokens=True, clean_up_tokenization_spaces=True) for t in b_target_ids]\n",
    "\n",
    "            total_test_acc += accuracy_score(target, preds)\n",
    "            total_test_f1 += f1_score(preds, target,\n",
    "                                       average='weighted',\n",
    "                                       labels=np.unique(preds))\n",
    "            predictions.extend(preds)\n",
    "            actuals.extend(target)\n",
    "\n",
    "    avg_test_loss = total_test_loss / len(dataloader)\n",
    "\n",
    "    avg_test_acc = total_test_acc / len(test_dataloader)\n",
    "\n",
    "    avg_test_f1 = total_test_f1 / len(test_dataloader)\n",
    "\n",
    "    test_stats = (\n",
    "        {\n",
    "            'Test Loss': avg_test_loss,\n",
    "            'Test Acc.': avg_test_acc\n",
    "        }\n",
    "    )\n",
    "\n",
    "    return test_stats, predictions, actuals\n",
    "\n",
    "def format_time(elapsed):\n",
    "    '''\n",
    "    Takes a time in seconds and returns a string hh:mm:ss\n",
    "    '''\n",
    "    # Round to the nearest second.\n",
    "    elapsed_rounded = int(round((elapsed)))\n",
    "    # Format as hh:mm:ss\n",
    "    return str(datetime.timedelta(seconds=elapsed_rounded))"
   ]
  },
  {
   "cell_type": "markdown",
   "id": "04105954-6f2d-48ee-9d0e-8da4995e2f2a",
   "metadata": {},
   "source": [
    "### Train the model"
   ]
  },
  {
   "cell_type": "code",
   "execution_count": 9,
   "id": "fa1223a7-4c32-4dfa-8cb7-f06d3ab1376b",
   "metadata": {},
   "outputs": [
    {
     "name": "stderr",
     "output_type": "stream",
     "text": [
      "/Users/d3lph1/university/3/anlp/2/lib/python3.11/site-packages/transformers/optimization.py:306: FutureWarning: This implementation of AdamW is deprecated and will be removed in a future version. Use thePyTorch implementation torch.optim.AdamW instead, or set `no_deprecation_warning=True` to disable this warning\n",
      "  warnings.warn(\n"
     ]
    }
   ],
   "source": [
    "optimizer = AdamW(model.parameters(),\n",
    "                  lr = 3e-5\n",
    "                  )\n",
    "\n",
    "# epochs\n",
    "epochs = 6\n",
    "\n",
    "# lr scheduler\n",
    "total_steps = len(train_dataloader) * epochs\n",
    "scheduler = get_linear_schedule_with_warmup(optimizer,\n",
    "                                            num_warmup_steps=0,\n",
    "                                            num_training_steps=total_steps)"
   ]
  },
  {
   "cell_type": "code",
   "execution_count": 10,
   "id": "d3cc561e-0510-43c6-a1e4-b7f3a7d820c0",
   "metadata": {},
   "outputs": [
    {
     "name": "stdout",
     "output_type": "stream",
     "text": [
      "\n",
      "======== Epoch 1 / 6 ========\n",
      "Training...\n",
      "  Batch    40  of     94.\n",
      "  Batch    80  of     94.\n",
      "\n",
      "summary results\n",
      "epoch | trn loss | trn time \n",
      "    1 | 0.7215 | 0:04:38\n",
      "\n",
      "Running Validation...\n",
      "\n",
      "summary results\n",
      "epoch | val loss | val time\n",
      "    1 | 0.8094 | 0:00:47\n",
      "\n",
      "======== Epoch 2 / 6 ========\n",
      "Training...\n",
      "  Batch    40  of     94.\n",
      "  Batch    80  of     94.\n",
      "\n",
      "summary results\n",
      "epoch | trn loss | trn time \n",
      "    2 | 0.5694 | 0:04:30\n",
      "\n",
      "Running Validation...\n",
      "\n",
      "summary results\n",
      "epoch | val loss |  val time\n",
      "    2 | 0.8213 | 0:00:53\n",
      "\n",
      "======== Epoch 3 / 6 ========\n",
      "Training...\n",
      "  Batch    40  of     94.\n",
      "  Batch    80  of     94.\n",
      "\n",
      "summary results\n",
      "epoch | trn loss | trn time \n",
      "    3 | 0.5015 | 0:04:36\n",
      "\n",
      "Running Validation...\n",
      "\n",
      "summary results\n",
      "epoch | val loss | val time\n",
      "    3 | 0.3927 | 0:00:50\n",
      "\n",
      "======== Epoch 4 / 6 ========\n",
      "Training...\n",
      "  Batch    40  of     94.\n",
      "  Batch    80  of     94.\n",
      "\n",
      "summary results\n",
      "epoch | trn loss | trn time \n",
      "    4 | 0.3257 | 0:04:52\n",
      "\n",
      "Running Validation...\n",
      "\n",
      "summary results\n",
      "epoch | val loss | al time\n",
      "    4 | 0.3849 | 0:00:51\n",
      "\n",
      "======== Epoch 5 / 6 ========\n",
      "Training...\n",
      "  Batch    40  of     94.\n",
      "  Batch    80  of     94.\n",
      "\n",
      "summary results\n",
      "epoch | trn loss | trn time \n",
      "    5 | 0.3030 | 0:04:41\n",
      "\n",
      "Running Validation...\n",
      "\n",
      "summary results\n",
      "epoch | val loss | val time\n",
      "    5 | 0.2928 | 0:00:47\n",
      "\n",
      "======== Epoch 6 / 6 ========\n",
      "Training...\n",
      "  Batch    40  of     94.\n",
      "  Batch    80  of     94.\n",
      "\n",
      "summary results\n",
      "epoch | trn loss | trn time \n",
      "    6 | 0.21641 | 0:04:51\n",
      "\n",
      "Running Validation...\n",
      "\n",
      "summary results\n",
      "epoch | val loss | val time\n",
      "    6 | 0.15280 | 0:00:49\n"
     ]
    }
   ],
   "source": [
    "training_stats = []\n",
    "valid_stats = []\n",
    "best_valid_loss = float('inf')\n",
    "\n",
    "for epoch in range(epochs):\n",
    "\n",
    "    train(model, train_dataloader, optimizer)\n",
    "    validating(model, valid_dataloader)\n",
    "\n",
    "    if valid_stats[epoch]['Val Loss'] < best_valid_loss:\n",
    "        best_valid_loss = valid_stats[epoch]['Val Loss']\n",
    "\n",
    "        torch.save(model.state_dict(), 't5-classification.pt')\n",
    "        model_to_save = model.module if hasattr(model, 'module') else model\n",
    "        model_to_save.save_pretrained('./model_save/t5-classification/')\n",
    "        tokenizer.save_pretrained('./model_save/t5-classification/')"
   ]
  },
  {
   "cell_type": "markdown",
   "id": "8af2d010-3445-4ca9-be83-a690c2b97fa1",
   "metadata": {},
   "source": [
    "### Evaluation on the test dataset"
   ]
  },
  {
   "cell_type": "code",
   "execution_count": 13,
   "id": "13a1e180-cc63-4aff-9fc0-442c7ce9f969",
   "metadata": {},
   "outputs": [
    {
     "name": "stdout",
     "output_type": "stream",
     "text": [
      "\n",
      "Running Testing...\n"
     ]
    }
   ],
   "source": [
    "stat, pred, true = testing(model, test_dataloader)"
   ]
  },
  {
   "cell_type": "code",
   "execution_count": 14,
   "id": "b98cc429-e59f-446f-8c49-2c0b867f17d1",
   "metadata": {},
   "outputs": [
    {
     "data": {
      "text/plain": [
       "{'Test Loss': 0.27349,\n",
       " 'Test Acc.': 0.84512}\n"
      ]
     },
     "execution_count": 14,
     "metadata": {},
     "output_type": "execute_result"
    }
   ],
   "source": [
    "stat"
   ]
  },
  {
   "cell_type": "code",
   "execution_count": 22,
   "id": "37c7c120-69fd-4512-9da3-fd6bb1880cd5",
   "metadata": {},
   "outputs": [],
   "source": [
    "true_labels = np.array(true).reshape((-1))\n",
    "pred_labels = np.array(pred).reshape((-1))"
   ]
  },
  {
   "cell_type": "code",
   "execution_count": 23,
   "id": "4afa6a0e-adac-4bc0-8800-6793d798fdde",
   "metadata": {},
   "outputs": [
    {
     "data": {
      "text/plain": [
       "array([0, 0, 0, 0, 0, 0, 0, 0, 0, 0, 0, 0, 0, 0, 0, 0, 0, 0, 0, 0, 0, 0,\n",
       "       0, 0, 0, 0, 0, 0, 0, 0, 0, 0, 0, 0, 0, 0, 0, 0, 0, 0, 0, 0, 0, 0,\n",
       "       0, 0, 0, 0, 0, 0, 0, 0, 0, 0, 0, 0, 0, 0, 0, 0, 0, 0, 0, 0, 0, 0,\n",
       "       0, 0, 0, 0, 0, 0, 0, 0, 0, 0, 0, 0, 0, 0, 0, 0, 0, 0, 0, 0, 0, 0,\n",
       "       0, 0, 0, 0, 0, 0, 0, 0, 0, 0, 0, 0, 0, 0, 0, 0, 0, 0, 0, 0, 0, 0,\n",
       "       0, 0, 0, 0, 0, 0, 0, 0, 0, 0, 0, 0, 0, 0, 0, 1, 1, 1, 1, 1, 1, 1,\n",
       "       1, 1, 1, 1, 1, 1, 1, 1, 1, 1, 1, 1, 1, 1, 1, 1, 1, 1, 1, 1, 1, 1,\n",
       "       1, 1, 1, 1, 1, 1, 1, 1, 1, 1, 1, 1, 1, 1, 1, 1, 1, 1, 1, 1, 1, 1,\n",
       "       1, 1, 1, 1, 1, 1, 1, 1, 1, 1, 1, 1, 1, 1, 1, 1, 1, 1, 1, 1, 1, 1,\n",
       "       1, 1, 1, 1, 1, 1, 1, 1, 1, 1, 1, 1, 1, 1, 1, 1, 1, 1, 1, 1, 1, 1,\n",
       "       1, 1, 1, 1, 1, 1, 1, 1, 1, 1, 1, 1, 1, 1, 1, 1, 1, 1, 1, 1, 1, 1,\n",
       "       1, 1, 1, 1, 1, 1, 1, 1, 2, 2, 2, 2, 2, 2, 2, 2, 2, 2, 2, 2, 2, 2,\n",
       "       2, 2, 2, 2, 2, 2, 2, 2, 2, 2, 2, 2, 2, 2, 2, 2, 2, 2, 2, 2, 2, 2,\n",
       "       2, 2, 2, 2, 2, 2, 2, 2, 2, 2, 2, 2, 2, 2, 2, 2, 2, 2, 2, 2, 2, 2,\n",
       "       2, 2, 2, 2, 2, 2, 2, 2, 2, 2, 2, 2, 2, 2, 2, 2, 2, 2, 2, 2, 2, 2,\n",
       "       2, 2, 2, 2, 2, 2, 2, 2, 2, 2, 2, 2, 2, 2, 2, 2, 2, 2, 2, 2, 2, 2,\n",
       "       2, 2, 2, 2, 2, 2, 2, 2, 2, 2, 2, 2, 2, 2, 2, 2, 2, 2, 2, 2, 2, 2,\n",
       "       2])"
      ]
     },
     "execution_count": 23,
     "metadata": {},
     "output_type": "execute_result"
    }
   ],
   "source": [
    "true_labels"
   ]
  },
  {
   "cell_type": "code",
   "execution_count": 25,
   "id": "a028a13e-fe01-4d97-ac35-fe10b0275c7f",
   "metadata": {},
   "outputs": [
    {
     "data": {
      "text/plain": [
       "array([0, 0, 0, 0, 1, 2, 0, 0, 0, 0, 2, 0, 0, 0, 2, 0, 0, 1, 2, 0, 1, 2,\n",
       "       0, 0, 0, 0, 2, 2, 0, 0, 0, 0, 0, 0, 0, 0, 0, 0, 0, 2, 0, 0, 0, 0,\n",
       "       0, 0, 1, 0, 0, 0, 2, 0, 0, 0, 0, 0, 0, 1, 0, 0, 0, 0, 2, 2, 0, 0,\n",
       "       0, 0, 0, 0, 0, 1, 0, 0, 0, 0, 0, 0, 0, 0, 0, 0, 0, 1, 0, 2, 0, 0,\n",
       "       2, 0, 0, 0, 2, 0, 0, 0, 2, 0, 0, 0, 0, 0, 0, 0, 0, 0, 0, 2, 0, 0,\n",
       "       2, 2, 0, 0, 0, 0, 0, 0, 0, 0, 2, 0, 0, 2, 0, 1, 1, 1, 2, 1, 1, 1,\n",
       "       1, 1, 1, 1, 1, 1, 1, 1, 2, 1, 1, 1, 1, 1, 1, 1, 1, 1, 1, 1, 1, 2,\n",
       "       1, 1, 1, 2, 1, 1, 0, 1, 1, 2, 1, 1, 2, 1, 2, 1, 1, 2, 1, 2, 1, 1,\n",
       "       1, 1, 1, 1, 1, 1, 1, 1, 1, 2, 1, 1, 1, 2, 1, 1, 1, 1, 1, 1, 1, 1,\n",
       "       1, 1, 1, 1, 1, 0, 1, 1, 1, 1, 1, 2, 1, 1, 1, 1, 1, 2, 1, 1, 1, 1,\n",
       "       1, 1, 1, 1, 1, 1, 1, 2, 1, 1, 1, 1, 1, 2, 0, 1, 1, 1, 1, 1, 1, 1,\n",
       "       1, 1, 1, 2, 1, 1, 1, 1, 0, 2, 2, 2, 2, 2, 2, 2, 2, 2, 2, 2, 2, 2,\n",
       "       2, 2, 2, 2, 2, 2, 2, 2, 2, 2, 2, 2, 2, 1, 2, 2, 1, 2, 2, 2, 2, 2,\n",
       "       2, 2, 2, 2, 2, 2, 0, 2, 2, 2, 2, 2, 2, 2, 2, 2, 2, 2, 2, 0, 2, 2,\n",
       "       2, 2, 2, 2, 2, 2, 2, 2, 1, 2, 2, 2, 2, 0, 2, 2, 2, 2, 2, 2, 2, 2,\n",
       "       2, 2, 2, 2, 2, 2, 2, 2, 2, 2, 2, 0, 2, 2, 2, 2, 2, 2, 2, 2, 2, 2,\n",
       "       2, 2, 2, 2, 2, 2, 2, 2, 2, 2, 1, 1, 1, 1, 2, 2, 2, 2, 2, 2, 2, 2,\n",
       "       2])"
      ]
     },
     "execution_count": 25,
     "metadata": {},
     "output_type": "execute_result"
    }
   ],
   "source": [
    "pred_labels"
   ]
  },
  {
   "cell_type": "markdown",
   "id": "0f2a181a-d909-4a87-b903-793449630bf7",
   "metadata": {},
   "source": [
    "### Metrics"
   ]
  },
  {
   "cell_type": "code",
   "execution_count": 17,
   "id": "1e1e4117-6d15-47ed-b841-bb5d880da20b",
   "metadata": {},
   "outputs": [
    {
     "data": {
      "text/plain": [
       "(0.8453333333333334, 0.8554169656550307, 0.8453333333333334)"
      ]
     },
     "execution_count": 17,
     "metadata": {},
     "output_type": "execute_result"
    }
   ],
   "source": [
    "accuracy_score(true_labels, pred_labels), precision_score(true_labels, pred_labels, average='macro'), recall_score(true_labels, pred_labels, average='macro')"
   ]
  },
  {
   "cell_type": "markdown",
   "id": "595ad7d3-1115-43ba-91bb-26ec5fb10f30",
   "metadata": {},
   "source": [
    "### Confusion matrix"
   ]
  },
  {
   "cell_type": "code",
   "execution_count": 18,
   "id": "5a71e9f7-31ff-4d1c-b38e-b70e7f9d7324",
   "metadata": {},
   "outputs": [
    {
     "data": {
      "image/png": "[encoded data removed]",
      "text/plain": [
       "<Figure size 896x672 with 2 Axes>"
      ]
     },
     "metadata": {},
     "output_type": "display_data"
    }
   ],
   "source": [
    "mpl.rcParams['figure.dpi'] = 140\n",
    "\n",
    "cm = confusion_matrix(true_labels, pred_labels, labels=[0, 1, 2])\n",
    "disp = ConfusionMatrixDisplay(confusion_matrix=cm, display_labels=['Real', 'Llama', 'Phi'])\n",
    "disp.plot()\n",
    "\n",
    "plt.title('125 samples per each class')\n",
    "plt.show()"
   ]
  }
 ],
 "metadata": {
  "kernelspec": {
   "display_name": "Python 3 (ipykernel)",
   "language": "python",
   "name": "python3"
  },
  "language_info": {
   "codemirror_mode": {
    "name": "ipython",
    "version": 3
   },
   "file_extension": ".py",
   "mimetype": "text/x-python",
   "name": "python",
   "nbconvert_exporter": "python",
   "pygments_lexer": "ipython3",
   "version": "3.11.5"
  }
 },
 "nbformat": 4,
 "nbformat_minor": 5
}
