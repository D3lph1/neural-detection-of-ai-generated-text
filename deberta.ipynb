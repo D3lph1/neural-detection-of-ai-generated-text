{
 "cells": [
  {
   "cell_type": "markdown",
   "id": "e8af0840-68bd-4036-9e1e-00aeb0fadbfb",
   "metadata": {},
   "source": [
    "# Classification model: DeBERTa\n",
    "\n",
    "This notebook contains DeBERTa model building, training and evaluation."
   ]
  },
  {
   "cell_type": "code",
   "execution_count": 1,
   "id": "cc371a7e-6df6-479e-82c7-c2ea2a2bb4c7",
   "metadata": {},
   "outputs": [
    {
     "name": "stdout",
     "output_type": "stream",
     "text": [
      "Using TensorFlow backend\n"
     ]
    }
   ],
   "source": [
    "import numpy as np\n",
    "import pandas as pd\n",
    "import math\n",
    "import json\n",
    "\n",
    "from sklearn.model_selection import train_test_split\n",
    "\n",
    "import tensorflow as tf\n",
    "import keras\n",
    "import keras_nlp\n",
    "import tensorflow.keras.backend as K\n",
    "\n",
    "from sklearn.metrics import accuracy_score, precision_score, recall_score\n",
    "from sklearn.metrics import confusion_matrix, ConfusionMatrixDisplay\n",
    "\n",
    "import matplotlib as mpl\n",
    "import matplotlib.pyplot as plt"
   ]
  },
  {
   "cell_type": "markdown",
   "id": "eeaf5abe-399b-453a-b367-f1fb419848b0",
   "metadata": {},
   "source": [
    "### Read the splitted datasets"
   ]
  },
  {
   "cell_type": "code",
   "execution_count": 2,
   "id": "ae7c0b45-ec7b-4e7f-b47e-0baeb0007b79",
   "metadata": {},
   "outputs": [],
   "source": [
    "with open('./datasets/data_train_new.json', 'r') as f:\n",
    "    data_train = json.load(f)\n",
    "\n",
    "with open('./datasets/data_valid_new.json', 'r') as f:\n",
    "    data_valid = json.load(f)\n",
    "\n",
    "with open('./datasets/data_test_new.json', 'r') as f:\n",
    "    data_test = json.load(f)\n",
    "\n",
    "train_df = pd.DataFrame(data_train)\n",
    "valid_df = pd.DataFrame(data_valid)\n",
    "test_df = pd.DataFrame(data_test)"
   ]
  },
  {
   "cell_type": "markdown",
   "id": "2dcaf6db-609e-4ae5-a6ac-7d570a1ded0c",
   "metadata": {},
   "source": [
    "### Model building"
   ]
  },
  {
   "cell_type": "code",
   "execution_count": 13,
   "id": "3e573ac1-058c-470c-b126-9446fc2f29bb",
   "metadata": {},
   "outputs": [],
   "source": [
    "SEQUENCE_LENGTH = 128\n",
    "BATCH_SIZE = 32\n",
    "REPLICAS = 1\n",
    "PRESET = 'deberta_v3_base_en'\n",
    "EPOCHS = 10\n",
    "SEED = 0"
   ]
  },
  {
   "cell_type": "code",
   "execution_count": 14,
   "id": "f312f7f0-ebee-4f1c-b5b2-2ebb06660a55",
   "metadata": {},
   "outputs": [
    {
     "name": "stderr",
     "output_type": "stream",
     "text": [
      "2023-12-18 22:39:19.668068: I metal_plugin/src/device/metal_device.cc:1154] Metal device set to: Apple M1 Max\n",
      "2023-12-18 22:39:19.668100: I metal_plugin/src/device/metal_device.cc:296] systemMemory: 32.00 GB\n",
      "2023-12-18 22:39:19.668106: I metal_plugin/src/device/metal_device.cc:313] maxCacheSize: 10.67 GB\n",
      "2023-12-18 22:39:19.668335: I tensorflow/core/common_runtime/pluggable_device/pluggable_device_factory.cc:306] Could not identify NUMA node of platform GPU ID 0, defaulting to 0. Your kernel may not have been built with NUMA support.\n",
      "2023-12-18 22:39:19.668701: I tensorflow/core/common_runtime/pluggable_device/pluggable_device_factory.cc:272] Created TensorFlow device (/job:localhost/replica:0/task:0/device:GPU:0 with 0 MB memory) -> physical PluggableDevice (device: 0, name: METAL, pci bus id: <undefined>)\n"
     ]
    }
   ],
   "source": [
    "preprocessor = keras_nlp.models.DebertaV3Preprocessor.from_preset(\n",
    "    preset=PRESET,\n",
    "    sequence_length=SEQUENCE_LENGTH\n",
    ")"
   ]
  },
  {
   "cell_type": "code",
   "execution_count": 15,
   "id": "d261b2d0-a740-4424-b760-f5259614f999",
   "metadata": {},
   "outputs": [],
   "source": [
    "def preprocess_fn(text, label=None):\n",
    "    text = preprocessor(text)\n",
    "    \n",
    "    return (text, label) if label is not None else text\n",
    "\n",
    "def encode_labels_fn(text, label):\n",
    "    return (text, tf.one_hot(label, depth=3))\n",
    "\n",
    "def build_dataset(texts, labels=None, batch_size=32,\n",
    "                  cache=False, drop_remainder=True,\n",
    "                  repeat=False, shuffle=1024):\n",
    "    AUTO = tf.data.AUTOTUNE  # AUTOTUNE option\n",
    "    slices = (texts,) if labels is None else (texts, labels)  # Create slices\n",
    "    ds = tf.data.Dataset.from_tensor_slices(slices)  # Create dataset from slices\n",
    "    ds = ds.cache() if cache else ds  # Cache dataset if enabled\n",
    "    ds = ds.map(preprocess_fn, num_parallel_calls=AUTO)  # Map preprocessing function\n",
    "    # ds = ds.map(encode_labels_fn, num_parallel_calls=AUTO)\n",
    "    ds = ds.repeat() if repeat else ds  # Repeat dataset if enabled\n",
    "    opt = tf.data.Options()  # Create dataset options\n",
    "    if shuffle: \n",
    "        ds = ds.shuffle(shuffle, seed=SEED)  # Shuffle dataset if enabled\n",
    "        opt.experimental_deterministic = False\n",
    "    ds = ds.with_options(opt)  # Set dataset options\n",
    "    ds = ds.batch(batch_size, drop_remainder=drop_remainder)  # Batch dataset\n",
    "    ds = ds.prefetch(AUTO)  # Prefetch next batch\n",
    "    return ds  # Return the built dataset"
   ]
  },
  {
   "cell_type": "code",
   "execution_count": 16,
   "id": "25477e3e-6658-4a5b-b3da-fe61e405f04c",
   "metadata": {},
   "outputs": [],
   "source": [
    "def get_datasets():\n",
    "    train_texts = train_df.text.tolist()\n",
    "    train_labels = train_df.label.tolist()\n",
    "    \n",
    "    # Build training dataset\n",
    "    train_ds = build_dataset(train_texts, train_labels,\n",
    "                             batch_size=BATCH_SIZE * REPLICAS, cache=False,\n",
    "                             shuffle=True, drop_remainder=True, repeat=True)\n",
    "\n",
    "    valid_texts = valid_df.text.tolist()  # Extract validation texts\n",
    "    valid_labels = valid_df.label.tolist()  # Extract validation labels\n",
    "    \n",
    "    # Build validation dataset\n",
    "    valid_ds = build_dataset(valid_texts, valid_labels,\n",
    "                             batch_size=min(BATCH_SIZE * REPLICAS, len(valid_df)), cache=False,\n",
    "                             shuffle=False, drop_remainder=True, repeat=False)\n",
    "    \n",
    "    return (train_ds, train_df), (valid_ds, valid_df)  # Return datasets and dataframes"
   ]
  },
  {
   "cell_type": "code",
   "execution_count": 18,
   "id": "0f436d2c-f84b-4df3-9a0c-998999a00134",
   "metadata": {},
   "outputs": [],
   "source": [
    "def get_callbacks():\n",
    "    callbacks = []\n",
    "    ckpt_cb = keras.callbacks.ModelCheckpoint(f'./weights/deberta_new.keras',\n",
    "                                              monitor='val_acc',\n",
    "                                              save_best_only=True,\n",
    "                                              save_weights_only=False,\n",
    "                                              mode='max')  # Get Model checkpoint callback\n",
    "    callbacks.extend([ckpt_cb])  # Add lr and checkpoint callbacks\n",
    "    \n",
    "    return callbacks"
   ]
  },
  {
   "cell_type": "code",
   "execution_count": 19,
   "id": "3d88c945-2e8f-4616-afed-b37b23bcb05f",
   "metadata": {},
   "outputs": [],
   "source": [
    "def build_model():\n",
    "    # Create a DebertaV3Classifier model\n",
    "    classifier = keras_nlp.models.DebertaV3Classifier.from_preset(\n",
    "        PRESET,\n",
    "        preprocessor=None,\n",
    "        num_classes=3\n",
    "    )\n",
    "    inputs = classifier.input\n",
    "    logits = classifier(inputs)\n",
    "    \n",
    "    # Compute final output\n",
    "    outputs = keras.layers.Activation('softmax')(logits)\n",
    "    model = keras.Model(inputs, outputs)\n",
    "    \n",
    "    # Compile the model with optimizer, loss, and metrics\n",
    "    model.compile(\n",
    "        optimizer=tf.keras.optimizers.legacy.Adam(5e-6),\n",
    "        loss=keras.losses.SparseCategoricalCrossentropy(),\n",
    "        metrics=[\n",
    "            keras.metrics.SparseCategoricalAccuracy(name='acc'),\n",
    "        ],\n",
    "        jit_compile=False # JIT is not supported for Macs with Apple Sillicon\n",
    "    )\n",
    "    return model"
   ]
  },
  {
   "cell_type": "code",
   "execution_count": 20,
   "id": "87327671-0dc4-46fc-8697-382a613a1390",
   "metadata": {},
   "outputs": [
    {
     "name": "stderr",
     "output_type": "stream",
     "text": [
      "WARNING:absl:At this time, the v2.11+ optimizer `tf.keras.optimizers.Adam` runs slowly on M1/M2 Macs, please use the legacy Keras optimizer instead, located at `tf.keras.optimizers.legacy.Adam`.\n",
      "WARNING:absl:XLA (`jit_compile`) is not yet supported on Apple M1/M2 ARM processors. Falling back to `jit_compile=False`.\n"
     ]
    }
   ],
   "source": [
    "model = build_model()"
   ]
  },
  {
   "cell_type": "code",
   "execution_count": 21,
   "id": "9c6ad025-c9c7-4a8b-a766-df57cc3bf831",
   "metadata": {},
   "outputs": [
    {
     "name": "stdout",
     "output_type": "stream",
     "text": [
      "Model: \"model\"\n",
      "__________________________________________________________________________________________________\n",
      " Layer (type)                Output Shape                 Param #   Connected to                  \n",
      "==================================================================================================\n",
      " padding_mask (InputLayer)   [(None, None)]               0         []                            \n",
      "                                                                                                  \n",
      " token_ids (InputLayer)      [(None, None)]               0         []                            \n",
      "                                                                                                  \n",
      " deberta_v3_classifier (Deb  (None, 3)                    1844244   ['padding_mask[0][0]',        \n",
      " ertaV3Classifier)                                        51         'token_ids[0][0]']           \n",
      "                                                                                                  \n",
      " activation (Activation)     (None, 3)                    0         ['deberta_v3_classifier[0][0]'\n",
      "                                                                    ]                             \n",
      "                                                                                                  \n",
      "==================================================================================================\n",
      "Total params: 184424451 (703.52 MB)\n",
      "Trainable params: 184424451 (703.52 MB)\n",
      "Non-trainable params: 0 (0.00 Byte)\n",
      "__________________________________________________________________________________________________\n"
     ]
    }
   ],
   "source": [
    "model.summary()"
   ]
  },
  {
   "cell_type": "code",
   "execution_count": 22,
   "id": "dcb2d3cc-4d52-4a98-89f3-305704a0b000",
   "metadata": {},
   "outputs": [],
   "source": [
    "(train_ds, train_df), (valid_ds, valid_df) = get_datasets()\n",
    "\n",
    "callbacks = get_callbacks()"
   ]
  },
  {
   "cell_type": "markdown",
   "id": "472f8850-d89b-42f9-b227-3eb06777af31",
   "metadata": {},
   "source": [
    "### Train the model"
   ]
  },
  {
   "cell_type": "code",
   "execution_count": 41,
   "id": "03bfded4-c59c-4627-9cdf-28fbb7a41607",
   "metadata": {},
   "outputs": [
    {
     "name": "stdout",
     "output_type": "stream",
     "text": [
      "##################################################\n",
      "Epoch 1/3\n",
      "70/70 [==============================] - 701s 10s/step - loss: 0.2991 - acc: 0.8978 - val_loss: 0.1929 - val_acc: 0.9486\n",
      "Epoch 2/3\n",
      "70/70 [==============================] - 732s 10s/step - loss: 0.2473 - acc: 0.9129 - val_loss: 0.1421 - val_acc: 0.9617\n",
      "Epoch 3/3\n",
      "70/70 [==============================] - 771s 11s/step - loss: 0.1803 - acc: 0.9446 - val_loss: 0.1164 - val_acc: 0.9597\n",
      "\n",
      "================= RESULTS =================\n",
      ">>>> BEST Loss  : 0.142\n",
      ">>>> BEST ACCURACY   : 0.962\n",
      ">>>> BEST Epoch : 1\n",
      "==================================================\n"
     ]
    }
   ],
   "source": [
    "print('#' * 50)\n",
    "\n",
    "# Start training the model\n",
    "history = model.fit(\n",
    "    train_ds,\n",
    "    epochs=3,\n",
    "    validation_data=valid_ds,\n",
    "    callbacks=callbacks,\n",
    "    steps_per_epoch=int(len(train_df) / BATCH_SIZE / REPLICAS),\n",
    ")\n",
    "\n",
    "# Find the epoch with the best validation accuracy\n",
    "best_epoch = np.argmax(model.history.history['val_acc'])\n",
    "best_auc = model.history.history['val_acc'][best_epoch]\n",
    "best_loss = model.history.history['val_loss'][best_epoch]\n",
    "\n",
    "# Print and display best results\n",
    "print(f'\\n{\"=\" * 17} RESULTS {\"=\" * 17}')\n",
    "print(f'>>>> BEST Loss  : {best_loss:.3f}\\n>>>> BEST ACCURACY   : {best_auc:.3f}\\n>>>> BEST Epoch : {best_epoch}')\n",
    "print('=' * 50)"
   ]
  },
  {
   "cell_type": "markdown",
   "id": "bba3adf1-d12f-4456-809c-91402a38f85d",
   "metadata": {},
   "source": [
    "### Evaluation on the test dataset"
   ]
  },
  {
   "cell_type": "code",
   "execution_count": 42,
   "id": "9cbcb1c4-e46d-4a7d-86a1-4ae6badcbccc",
   "metadata": {},
   "outputs": [],
   "source": [
    "test_texts = test_df.text.tolist()\n",
    "test_labels = test_df.label.tolist()\n",
    "\n",
    "# Build test dataset\n",
    "test_ds = build_dataset(test_texts, test_labels,\n",
    "                             batch_size=125, cache=False,\n",
    "                             shuffle=False, drop_remainder=True, repeat=False)"
   ]
  },
  {
   "cell_type": "code",
   "execution_count": 43,
   "id": "8986a4ed-0d05-44f7-91bf-43b7b245ff71",
   "metadata": {},
   "outputs": [
    {
     "name": "stdout",
     "output_type": "stream",
     "text": [
      "3/3 [==============================] - 42s 14s/step - loss: 0.2424 - acc: 0.9147\n"
     ]
    }
   ],
   "source": [
    "score, acc = model.evaluate(test_ds, batch_size=125)"
   ]
  },
  {
   "cell_type": "code",
   "execution_count": 44,
   "id": "56b39554-480f-4045-93e5-30585d545dac",
   "metadata": {},
   "outputs": [
    {
     "name": "stdout",
     "output_type": "stream",
     "text": [
      "Test score: 0.2424151599407196\n",
      "Test acc: 0.9146666526794434\n"
     ]
    }
   ],
   "source": [
    "print(f'Test score: {score}')\n",
    "print(f'Test acc: {acc}')"
   ]
  },
  {
   "cell_type": "code",
   "execution_count": 45,
   "id": "5fa9bbda-e99d-4c17-9762-63040e952d82",
   "metadata": {},
   "outputs": [
    {
     "name": "stdout",
     "output_type": "stream",
     "text": [
      "3/3 [==============================] - 33s 10s/step\n"
     ]
    }
   ],
   "source": [
    "predictions = model.predict(\n",
    "    test_ds,\n",
    "    batch_size=125,\n",
    "    verbose=1\n",
    ")"
   ]
  },
  {
   "cell_type": "code",
   "execution_count": 46,
   "id": "0d15de94-55dd-4df7-b799-3cbcc906b217",
   "metadata": {},
   "outputs": [],
   "source": [
    "true_labels = test_df.label.values\n",
    "pred_labels = predictions.argmax(axis=1)"
   ]
  },
  {
   "cell_type": "code",
   "execution_count": 47,
   "id": "77b1f1c5-4166-4fd7-a2d2-9b5ceac6bc2f",
   "metadata": {},
   "outputs": [
    {
     "data": {
      "text/plain": [
       "375"
      ]
     },
     "execution_count": 47,
     "metadata": {},
     "output_type": "execute_result"
    }
   ],
   "source": [
    "len(pred_labels)"
   ]
  },
  {
   "cell_type": "code",
   "execution_count": 48,
   "id": "4c84ad91-ebf1-4fd6-9c5d-f7f3d3cdebc7",
   "metadata": {},
   "outputs": [
    {
     "data": {
      "text/plain": [
       "array([0, 0, 0, 0, 0, 0, 0, 0, 0, 0, 0, 0, 0, 0, 0, 0, 0, 0, 0, 0, 0, 0,\n",
       "       0, 0, 0, 0, 0, 0, 0, 0, 0, 0, 0, 0, 0, 0, 0, 0, 0, 0, 0, 0, 0, 0,\n",
       "       0, 0, 0, 0, 0, 0, 0, 0, 0, 0, 0, 0, 0, 0, 0, 0, 0, 0, 0, 0, 0, 0,\n",
       "       0, 0, 0, 0, 0, 0, 0, 0, 0, 0, 0, 0, 0, 0, 0, 0, 0, 0, 0, 0, 0, 0,\n",
       "       0, 0, 0, 0, 0, 0, 0, 0, 0, 0, 0, 0, 0, 0, 0, 0, 0, 0, 0, 0, 0, 0,\n",
       "       0, 0, 0, 0, 0, 0, 0, 0, 0, 0, 0, 0, 0, 0, 0, 1, 1, 1, 1, 1, 1, 1,\n",
       "       1, 1, 1, 1, 1, 1, 1, 1, 1, 1, 1, 1, 1, 1, 1, 1, 1, 1, 1, 1, 1, 1,\n",
       "       1, 1, 1, 1, 1, 1, 1, 1, 1, 1, 1, 1, 1, 1, 1, 1, 1, 1, 1, 1, 1, 1,\n",
       "       1, 1, 1, 1, 1, 1, 1, 1, 1, 1, 1, 1, 1, 1, 1, 1, 1, 1, 1, 1, 1, 1,\n",
       "       1, 1, 1, 1, 1, 1, 1, 1, 1, 1, 1, 1, 1, 1, 1, 1, 1, 1, 1, 1, 1, 1,\n",
       "       1, 1, 1, 1, 1, 1, 1, 1, 1, 1, 1, 1, 1, 1, 1, 1, 1, 1, 1, 1, 1, 1,\n",
       "       1, 1, 1, 1, 1, 1, 1, 1, 2, 2, 2, 2, 2, 2, 2, 2, 2, 2, 2, 2, 2, 2,\n",
       "       2, 2, 2, 2, 2, 2, 2, 2, 2, 2, 2, 2, 2, 2, 2, 2, 2, 2, 2, 2, 2, 2,\n",
       "       2, 2, 2, 2, 2, 2, 2, 2, 2, 2, 2, 2, 2, 2, 2, 2, 2, 2, 2, 2, 2, 2,\n",
       "       2, 2, 2, 2, 2, 2, 2, 2, 2, 2, 2, 2, 2, 2, 2, 2, 2, 2, 2, 2, 2, 2,\n",
       "       2, 2, 2, 2, 2, 2, 2, 2, 2, 2, 2, 2, 2, 2, 2, 2, 2, 2, 2, 2, 2, 2,\n",
       "       2, 2, 2, 2, 2, 2, 2, 2, 2, 2, 2, 2, 2, 2, 2, 2, 2, 2, 2, 2, 2, 2,\n",
       "       2])"
      ]
     },
     "execution_count": 48,
     "metadata": {},
     "output_type": "execute_result"
    }
   ],
   "source": [
    "true_labels"
   ]
  },
  {
   "cell_type": "code",
   "execution_count": 49,
   "id": "143b0737-2979-442a-8a80-f3902446d047",
   "metadata": {},
   "outputs": [
    {
     "data": {
      "text/plain": [
       "array([0, 0, 0, 0, 2, 2, 0, 2, 0, 0, 2, 0, 0, 0, 2, 0, 0, 2, 0, 0, 2, 2,\n",
       "       0, 0, 0, 0, 0, 0, 0, 0, 0, 0, 0, 0, 0, 0, 0, 0, 0, 0, 0, 0, 0, 0,\n",
       "       0, 0, 2, 0, 0, 0, 0, 0, 0, 0, 0, 0, 0, 1, 0, 0, 0, 0, 2, 0, 0, 0,\n",
       "       0, 0, 0, 0, 0, 2, 0, 0, 0, 0, 0, 0, 0, 0, 0, 0, 0, 1, 0, 2, 0, 0,\n",
       "       2, 0, 0, 0, 2, 0, 0, 0, 2, 0, 0, 0, 0, 0, 0, 0, 0, 0, 0, 2, 0, 0,\n",
       "       2, 2, 0, 0, 0, 0, 0, 0, 0, 0, 2, 0, 0, 2, 0, 1, 1, 1, 2, 1, 1, 1,\n",
       "       1, 1, 1, 1, 1, 1, 1, 1, 2, 1, 1, 1, 1, 1, 1, 1, 1, 1, 1, 1, 1, 2,\n",
       "       1, 1, 1, 1, 1, 1, 1, 1, 1, 2, 1, 1, 1, 1, 2, 1, 1, 2, 1, 2, 1, 1,\n",
       "       1, 1, 1, 1, 1, 1, 1, 1, 1, 1, 1, 1, 1, 1, 1, 1, 1, 1, 1, 1, 1, 1,\n",
       "       1, 1, 1, 1, 1, 1, 1, 1, 1, 1, 1, 1, 1, 1, 1, 1, 1, 1, 1, 1, 1, 1,\n",
       "       1, 1, 1, 1, 1, 1, 1, 1, 1, 1, 1, 1, 1, 1, 1, 1, 1, 1, 1, 1, 1, 1,\n",
       "       1, 1, 1, 1, 1, 1, 1, 1, 0, 2, 2, 2, 2, 2, 2, 2, 2, 2, 2, 2, 2, 2,\n",
       "       2, 2, 2, 2, 2, 2, 2, 2, 2, 2, 2, 2, 2, 2, 2, 2, 1, 2, 2, 2, 2, 2,\n",
       "       2, 2, 2, 2, 2, 2, 2, 2, 2, 2, 2, 2, 2, 2, 2, 2, 2, 2, 2, 0, 2, 2,\n",
       "       2, 2, 2, 2, 2, 2, 2, 2, 2, 2, 2, 2, 2, 2, 2, 2, 2, 2, 2, 2, 2, 2,\n",
       "       2, 2, 2, 2, 2, 2, 2, 2, 2, 2, 2, 2, 2, 2, 2, 2, 2, 2, 2, 2, 2, 2,\n",
       "       2, 2, 2, 2, 2, 2, 2, 2, 2, 2, 2, 2, 2, 2, 2, 2, 2, 2, 2, 2, 2, 2,\n",
       "       2])"
      ]
     },
     "execution_count": 49,
     "metadata": {},
     "output_type": "execute_result"
    }
   ],
   "source": [
    "pred_labels"
   ]
  },
  {
   "cell_type": "markdown",
   "id": "810c4339-9cde-4018-b04e-477e454b7d79",
   "metadata": {},
   "source": [
    "### Metrics"
   ]
  },
  {
   "cell_type": "code",
   "execution_count": 50,
   "id": "56a81b23-8551-4db6-97e0-f92cad46cc61",
   "metadata": {},
   "outputs": [
    {
     "data": {
      "text/plain": [
       "(0.9146666666666666, 0.9249836462771178, 0.9146666666666666)"
      ]
     },
     "execution_count": 50,
     "metadata": {},
     "output_type": "execute_result"
    }
   ],
   "source": [
    "accuracy_score(true_labels, pred_labels), precision_score(true_labels, pred_labels, average='macro'), recall_score(true_labels, pred_labels, average='macro')"
   ]
  },
  {
   "cell_type": "markdown",
   "id": "5f9391d2-ec0e-4fe0-aaca-1a273dc8b0be",
   "metadata": {},
   "source": [
    "### Confusion matrix"
   ]
  },
  {
   "cell_type": "code",
   "execution_count": 58,
   "id": "fd1637cf-9125-49ee-a55f-0f7f4e91b6c2",
   "metadata": {},
   "outputs": [
    {
     "data": {
      "image/png": "[encoded data removed]",
      "text/plain": [
       "<Figure size 896x672 with 2 Axes>"
      ]
     },
     "metadata": {},
     "output_type": "display_data"
    }
   ],
   "source": [
    "mpl.rcParams['figure.dpi'] = 140\n",
    "\n",
    "cm = confusion_matrix(true_labels, pred_labels, labels=[0, 1, 2])\n",
    "disp = ConfusionMatrixDisplay(confusion_matrix=cm, display_labels=['Real', 'Llama', 'Phi'])\n",
    "disp.plot()\n",
    "\n",
    "plt.title('125 samples per each class')\n",
    "plt.show()"
   ]
  }
 ],
 "metadata": {
  "kernelspec": {
   "display_name": "Python 3 (ipykernel)",
   "language": "python",
   "name": "python3"
  },
  "language_info": {
   "codemirror_mode": {
    "name": "ipython",
    "version": 3
   },
   "file_extension": ".py",
   "mimetype": "text/x-python",
   "name": "python",
   "nbconvert_exporter": "python",
   "pygments_lexer": "ipython3",
   "version": "3.11.5"
  }
 },
 "nbformat": 4,
 "nbformat_minor": 5
}
